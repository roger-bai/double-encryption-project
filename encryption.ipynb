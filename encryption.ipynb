{
 "cells": [
  {
   "cell_type": "code",
   "execution_count": 1,
   "metadata": {},
   "outputs": [],
   "source": [
    "from Crypto.Cipher import AES\n",
    "import scrypt, os, binascii\n",
    "import csv\n",
    "import itertools"
   ]
  },
  {
   "cell_type": "code",
   "execution_count": 2,
   "metadata": {},
   "outputs": [],
   "source": [
    "def generate_key(passwd, N=16384, r=8, p=1, sklen=32, saltlen=16):\n",
    "    \"\"\"\n",
    "    * passwd:              str or str encoded as bype object\n",
    "    * saltlen:             8 bytes minimum, 16 bytes recommended\n",
    "    * salt:                saltlen-byte (non-secret) random data for scrypt key derivation function\n",
    "    * secretKey:           bytes object of length sklen\n",
    "        * N:               iterations count (a power of 2 greater than 1) (e.g. 16384, 2048)\n",
    "        * r:               block size \n",
    "        * p:               parallelism factor (where r*p < 2^30)\n",
    "        * sklen:           no. of bytes to generate as output (<= (2**32 - 1)*32)\n",
    "    * Memory required = 128 * N * r * p bytes\n",
    "    \"\"\"\n",
    "    if type(passwd) == str:\n",
    "        passwd = passwd.encode()\n",
    "    salt = os.urandom(saltlen)\n",
    "    secretKey = scrypt.hash(passwd, salt, N, r, p, sklen)\n",
    "    return secretKey, salt\n",
    "    \n",
    "def encrypt_AES_GCM(msg, secretKey, salt):\n",
    "    '''\n",
    "    * msg:                 str or str encoded as bype object\n",
    "    * aesCipher:           AES-256 cipher in Galois/Counter Mode\n",
    "    * aesCipher.nonce:     nonce bype object\n",
    "    * ciphertext, authTag: ciphertext and MAC tag\n",
    "    '''\n",
    "    if type(msg) == str:\n",
    "        msg = msg.encode()\n",
    "    aesCipher = AES.new(secretKey, AES.MODE_GCM)\n",
    "    ciphertext, authTag = aesCipher.encrypt_and_digest(msg)\n",
    "    return (salt, ciphertext, aesCipher.nonce, authTag)\n",
    "\n",
    "def decrypt_AES_GCM(encryptedMsg, secretKey):\n",
    "    \"\"\"\n",
    "    * encryptedMsg:        quadruple (salt, ciphertext, nonce, authTag)\n",
    "    * plaintext:           plaintext as byte object\n",
    "    \"\"\"\n",
    "    (salt, ciphertext, nonce, authTag) = encryptedMsg\n",
    "    aesCipher = AES.new(secretKey, AES.MODE_GCM, nonce)\n",
    "    plaintext = aesCipher.decrypt_and_verify(ciphertext, authTag)\n",
    "    return plaintext"
   ]
  },
  {
   "cell_type": "code",
   "execution_count": 166,
   "metadata": {},
   "outputs": [],
   "source": [
    "def encrypt_CSV(file_name, KEK, N=16384, r=8, p=1, sklen=32, saltlen=16):\n",
    "    # @TODO: more efficient: store each DEK info once, not with each entry\n",
    "    file = open(file_name, \"r\")\n",
    "    reader_, reader = itertools.tee(csv.reader(file, delimiter=','))\n",
    "    columns = len(next(reader_))\n",
    "    del reader_\n",
    "    \n",
    "    DEKs = [] # one per column\n",
    "    for _ in range(columns):\n",
    "        DEKs += [generate_key(KEK, N, r, p, sklen)]\n",
    "    \"\"\"\n",
    "    with open(file_name[:-4] + '_keyinfo.csv', 'w') as key_file:\n",
    "        fieldnames = ['salt', 'ciphertext', 'aesCipher.nonce', 'authTag']\n",
    "        writer = csv.DictWriter(key_file, fieldnames = fieldnames) etc. etc.\n",
    "    \"\"\"\n",
    "\n",
    "    header = next(reader) \n",
    "    encrypted_data = []\n",
    "    for line in reader:\n",
    "        if line:\n",
    "            encrypted_row = {}\n",
    "            for j in range(len(line)):\n",
    "                encrypted_row[header[j]] = encrypt_AES_GCM(line[j], DEKs[j][0], DEKs[j][1])\n",
    "            encrypted_data.append(encrypted_row)\n",
    "            \n",
    "    with open(file_name[:-4] + '_enc.csv', 'w') as enc_file:\n",
    "        writer = csv.DictWriter(enc_file, fieldnames = header)\n",
    "        writer.writeheader()\n",
    "        for row in encrypted_data:\n",
    "            print(row)\n",
    "            writer.writerow(row)\n",
    "    file.close()\n",
    "    \n",
    "def decrypt_CSV(enc_file_name, KEK, N=16384, r=8, p=1, sklen=32, saltlen=16):\n",
    "    file = open(enc_file_name, \"r\")\n",
    "    reader = csv.reader(file)\n",
    "    \n",
    "    header = next(reader) \n",
    "    print(header)\n",
    "    decrypted_data = []\n",
    "    for line in reader:\n",
    "        #print(len(line))\n",
    "        #print(line)\n",
    "        \n",
    "        encrypted_row = []\n",
    "        for entry in line:\n",
    "            entry = entry[3:-2].split(\"', b'\")\n",
    "            (salt, ciphertext, nonce, authTag) = [w.encode() for w in entry]\n",
    "            secretKey = scrypt.hash(KEK, salt, N, r, p, sklen)\n",
    "            test = decrypt_AES_GCM((salt, ciphertext, nonce, authTag), secretKey)\n",
    "            print(salt)\n",
    "\n",
    "    # @TODO: print to file\n",
    "    file.close()"
   ]
  },
  {
   "cell_type": "markdown",
   "metadata": {},
   "source": [
    "* * *"
   ]
  },
  {
   "cell_type": "markdown",
   "metadata": {},
   "source": [
    "# Test area"
   ]
  },
  {
   "cell_type": "code",
   "execution_count": 90,
   "metadata": {
    "collapsed": true
   },
   "outputs": [
    {
     "name": "stdout",
     "output_type": "stream",
     "text": [
      "{'Name': (b'\\x1au\\xd3($\\\\H\\xdaOa\\xd6~\\xa6\\xe6\\xc3K', b'\\x08\\x1eV\\xcf', b',\\xbf#\\x97?\\nD\\xf90\\x0e\\xe1\\xf4\\x85\\xb7\\xc78', b'\\xd8\\x8a\\xe7\\xe7\\x18Ki$\\x9aHs\\xc6P\\xc6l\\xb8'), '     \"Sex\"': (b'\\xafN\\xce\\n\\xad\\x16;M\\x0b/\\xab\\xc0,\\x99\\x8c=', b'A\\x0f|+\\xf8\\xc3\\x06\\x86\\xb9&', b' \\xd7\\x8b\\xe0V\\x9aY]G\\xc7IY\\xbc\\xfb\\xdaO', b'\\x06\\xd7B\\xd4\\x10m\\x03\\tq\\x10\\x12\\xdb\\xb5\\x1f\\x84/'), ' \"Age\"': (b'~\\x16\\xe1\\xf4\\xb8K\\xb0\\xd8\\xa3wYr>\\x12\\x96:', b'\\x8c\\xd7\\xa1\\xeb\\xf3', b\"\\xa7\\x14\\x02D\\xa4\\xcb\\xfe'Z\\x16\\x9c6`\\x00w'\", b'\\x92Lc\\x0e\\x16\\xe0A\\x8eg\\xff2\\xf1\\x02\\x89]\\xe8'), ' \"Height (in)\"': (b'\\xfc\\xfa,\\xee\\x9e!\\x98\\xe1y\\xaf0F\\xb7sxi', b'\\xe3\\xa0z\"\\xc4x\\xdb\\xaf\\x98', b'W\\x00K\\xd46\\xbb\\xf1\\x9f\\'\\x92\\x07\\xa5\\x04\"}\\x04', b'\\xbd\\x19\\xbfy\\xcf\\xd3\\x91\\xc9\\xc1\\xa9\\xa7\\xde\\xfd\\xe1\\xfer'), ' \"Weight (lbs)\"': (b'\\xcfD\\x84\\xa7+\\x1d}\\x16\\xfc\\xfa\\xeb\\xf0y\\x86B\\xb6', b'L\\x8c\\xaf\\xf4\\xd3\\x89\\x1cf\\xd5', b'W\\xee\\xa7\\x9c\\x1f\\xc3\\x07\\x1f\\xd1\\xce\\xb8\\xc5\\x1aeH7', b' \\x8d(\\x94\\xb94\\xcf\\x16\\xc9\\x7f9\\xafN}I[')}\n",
      "{'Name': (b'\\x1au\\xd3($\\\\H\\xdaOa\\xd6~\\xa6\\xe6\\xc3K', b'S\\x82{a', b'q&/h\\xb7\\x92\\x06/\\x1e\\xc1\\xb418\\xa9c\\xa1', b'\\xbe\\xb6hw\\xb5x\\xea\\xd4\\xf8W\\xae(\\xdb\\x08\\x95>'), '     \"Sex\"': (b'\\xafN\\xce\\n\\xad\\x16;M\\x0b/\\xab\\xc0,\\x99\\x8c=', b'\\xd1\\x9a/F\\xe1\\xe8\\xd6\\xd7i\\xf8', b'@\\xa8\\xaf$\\x0bq\\xdaS\\xd4\\x1a\\xdf\\x85M\\xbd6\\xa0', b'#\\x85\\x08\\x04\\xd9\\x90`\\r\\x1b\\xd0\\xf2\\x1f\\x01\\xc9\\xad\\xf4'), ' \"Age\"': (b'~\\x16\\xe1\\xf4\\xb8K\\xb0\\xd8\\xa3wYr>\\x12\\x96:', b'\\xe3\\\\\\x90\\x93\\x18', b'\\xc5\\x1e\\x83b\\xc9NP\\xe7\"Xb\\x12;(n\\xd0', b'\\x060\\xce\\xd3\\xa8pM\\x88\\x83\\xef\\xfa\\xcd\\xd1\\x12#\\x10'), ' \"Height (in)\"': (b'\\xfc\\xfa,\\xee\\x9e!\\x98\\xe1y\\xaf0F\\xb7sxi', b'\\xbcc\\xe48\\xdb&x|\\xdc', b'5Q/\\xfb\\x11,\\xf9v\\xe7MJ\\xa5\\xcb\\x88\\xc9\\x0e', b'\\xd9\\xa9yMJ\\x14;\\x93\\xc3P\\xe6>\\xf8\\x95\\xb5\\xbb'), ' \"Weight (lbs)\"': (b'\\xcfD\\x84\\xa7+\\x1d}\\x16\\xfc\\xfa\\xeb\\xf0y\\x86B\\xb6', b'\\x99A\\x15\\xaa\\x17\\xa9\\xe79\\xc7', b\"\\x87\\xfa\\x1b^'\\xc9\\xe8FZ\\x96\\xc8\\x16\\x03\\xb0\\xe4H\", b'.\\r\\xdf\\xf5\\xf8\\x12\\x04\\xb6\\x13\\xda(\\xa4^^\\xe1\\x14')}\n",
      "{'Name': (b'\\x1au\\xd3($\\\\H\\xdaOa\\xd6~\\xa6\\xe6\\xc3K', b'r\\xaa\\x10\\r', b'\\xda\\xe7\\xbed\\xeap\\xceg\\x07O\\xc3\\xa3@\\x9e\\x97\\xd5', b'\\x0e<g\\xc8\\x10B\\xb13\\xbf\\x04\\xc9f_\\x99\\xea\\x90'), '     \"Sex\"': (b'\\xafN\\xce\\n\\xad\\x16;M\\x0b/\\xab\\xc0,\\x99\\x8c=', b'\\xf6\\x1a\\x89\\xd3\\x185b\\x81\\x16j', b'\\xe6{m\\xe1\\xbe\\x12\\xf1\\xf6\\xab\\xa1\\x97\\xf9.\\x1e3\\x7f', b'=e\\x12\\x08\\xf4\\x9f\\x0f0\\x17f\\x127\\xc421\\xa9'), ' \"Age\"': (b'~\\x16\\xe1\\xf4\\xb8K\\xb0\\xd8\\xa3wYr>\\x12\\x96:', b\"\\xc8\\xae\\xdc\\xd2'\", b'\\xa0\\xda\\x02\\xfap\\xe9\\x9d\\xb9\\x9ccu\\x12\\xe0\\xa4\\xb2\\x19', b'\\xa7\\xae\\xed\\xf1\\xff\\xda\\x83@\\xb4\\x96\\t\\xd3J%\\xb2R'), ' \"Height (in)\"': (b'\\xfc\\xfa,\\xee\\x9e!\\x98\\xe1y\\xaf0F\\xb7sxi', b'EK\\x14/[0\\xb8S\\x1c', b'\\xa9\\x08E\\x95{\\xf8\\xa2\\xc3\\\\\\\\<\\x0e1qz\\xf7', b'\\xbc\\x0f\\x80$\\x81>V\\x94\\xca\\x9e\\x17`\\xaa.\\x97\\xf3'), ' \"Weight (lbs)\"': (b'\\xcfD\\x84\\xa7+\\x1d}\\x16\\xfc\\xfa\\xeb\\xf0y\\x86B\\xb6', b'\\xd6\\x15\\xb7\\\\/fb\\x89\\xde', b'\\x84\\xabY\\x1a\\x06\\xdao\\xb5:\\xa6\\xf9\\xa0\\xfd\\xc1\\x1b\\x87', b'\\xc59>\\xa9\\xb7f\\xc1\\xccV\\xfe\\x00U3\\xf3\\x99\\xd9')}\n",
      "{'Name': (b'\\x1au\\xd3($\\\\H\\xdaOa\\xd6~\\xa6\\xe6\\xc3K', b'\\xfc\\xfa+\\x88', b'\\r\\x8c\\x82\\xa6.s\\x8d\\xbc\\r\\xaf\\x83\\xad\\xfb\\x1e\\x1c\\xae', b'\\xde\\xb0\\xa7Y\\xfb\\x92\\xff\\x92:w\\xc3\\xb1P\\x96\\xca\\x81'), '     \"Sex\"': (b'\\xafN\\xce\\n\\xad\\x16;M\\x0b/\\xab\\xc0,\\x99\\x8c=', b'\\x06\\xde\\xb17PE\\x18+!\\xc0', b'\\x843\\xab\\xde\\x1d\\xbaH\\x1c\\xff\\xef\\x0c\\x1a\\x91!\\xcb\\xca', b'\\xd6\\x07\\xd3\\x93\\x90\\x90\\xd3\\x03\\xb8\\nt\\x11Lw\\x86\\x1d'), ' \"Age\"': (b'~\\x16\\xe1\\xf4\\xb8K\\xb0\\xd8\\xa3wYr>\\x12\\x96:', b'\\x17S\\x05\\xce\\xaf', b'\\x9a\\xcd\\x03\\x91\\x89z\\x85]\\xae0\\xafl\\xb2\\xce\\xa8D', b'[h\\xa0v\\x98\\xf2!%\\x1d\\x9fGFb\\x8a\\xc5s'), ' \"Height (in)\"': (b'\\xfc\\xfa,\\xee\\x9e!\\x98\\xe1y\\xaf0F\\xb7sxi', b'\\xf5j\\xee\\xf2v\\x12Q`\\xca', b\"S*\\x9a\\x83|Z`\\x8f\\xbc>\\x9d'\\xeegq#\", b'`\\xd7Lp\\xedC\\xf0\\x95\\x94\\xf9\\xd4\\xa1WC\\xa2\\x04'), ' \"Weight (lbs)\"': (b'\\xcfD\\x84\\xa7+\\x1d}\\x16\\xfc\\xfa\\xeb\\xf0y\\x86B\\xb6', b'\\xac\\xe5\\xef\\xda\\xc3\\xacO\\xd3Q', b\"\\xd2'vH$\\x9f\\xdc\\xd8\\xfd\\x91\\x15\\xee\\xba\\x120\\xbe\", b'E\\x87\\xd7?\\x8f\\x00\\x9e\\x0b\\x037\\xbfm\\xfc\\xd9\\xa7\\xb1')}\n",
      "{'Name': (b'\\x1au\\xd3($\\\\H\\xdaOa\\xd6~\\xa6\\xe6\\xc3K', b'z>\\xaf\\x1b', b\"\\xad\\xdcn(\\xb7\\x824y\\xe1\\x19\\x0c'\\xd1?\\xb4\\x14\", b'\\xd4\\x9e-SxxB\\x7f\\xc6\\x01n\\x02\\xb6\\x94\\xd3X'), '     \"Sex\"': (b'\\xafN\\xce\\n\\xad\\x16;M\\x0b/\\xab\\xc0,\\x99\\x8c=', b'\\xbbt4T\\xcb\\xe3h\\xd0$\\xcd', b'\\xc5\\xbd\\x8fz\\x1bIUK\\x82\\x1fZoA\\xeaXQ', b'.\\x8d\\xcaL\\x08W%\\x11\\x89\\x1a\\xd5$\\x9c.\\x802'), ' \"Age\"': (b'~\\x16\\xe1\\xf4\\xb8K\\xb0\\xd8\\xa3wYr>\\x12\\x96:', b'\\x02\\xd0\\xc9#\\xb4', b'\\xff\\xa8\\xbcg\\x0b\\x85\\xc4Y\\xe1\\xcf\\xab\\x1d\\x1c\\xba\\xd9:', b'\\xa3\\xe0\\x9b\\xfc\\xc6 \\xc9\\x0f\\xfc\\xa4\\xa2\\x1d\\xa0?0\\xa5'), ' \"Height (in)\"': (b'\\xfc\\xfa,\\xee\\x9e!\\x98\\xe1y\\xaf0F\\xb7sxi', b'\\x11\\xe0\\x19\\x87._\\xd8\\xd8\\x8d', b'i\\x87\\x98\\xec\\xf3\"\\x18yU\\xe5=\\xd8\\x18l\\xbc\\xbe', b'\\xfc(\\xbe\\x14\\xee\\x10\\xf0\\x93\\x08\\xd1M\\xe9\\x89\\x83R3'), ' \"Weight (lbs)\"': (b'\\xcfD\\x84\\xa7+\\x1d}\\x16\\xfc\\xfa\\xeb\\xf0y\\x86B\\xb6', b'\\x01\\x90>\\x1e\\xd3\\x90\\x00\\x13_', b't\\xd9s\\x88\\xf5\\x847\\xe3\\xa6\\xc5KC*\\xceM\\xd6', b'\\x1fa\\xf4\\x91\\xd7WHS\\x12\\x04N\\xac@9\\xb6\\x0f')}\n",
      "{'Name': (b'\\x1au\\xd3($\\\\H\\xdaOa\\xd6~\\xa6\\xe6\\xc3K', b'I\\xc1\\x1b\\xe2', b'Z\\xc2\\x01\\xd6\\xc7\\xbcIn\\x94\\xfeK\\xc7s\\xaf\\x16\\x90', b'\\x1d\\x82pP\\xd3\\xd6kL;\\xe2xh\\xc7\\xb0\\xc9\\x93'), '     \"Sex\"': (b'\\xafN\\xce\\n\\xad\\x16;M\\x0b/\\xab\\xc0,\\x99\\x8c=', b't\\x07\"\\xb2\\x7f\\xac#u\\x00\\x9a', b'#@\\x0b\\x99\\x13y\\x15\\x97\\x95\\xc40\\xa5\\xbf\\xb9\\x97\\x92', b'\\x1d\\xebiQR\\xcdXk])Am\\xb4\\x9e\"\\xb6'), ' \"Age\"': (b'~\\x16\\xe1\\xf4\\xb8K\\xb0\\xd8\\xa3wYr>\\x12\\x96:', b'\\\\\\xe8j\\xf2N', b'\\xcb\\xb5a\\xa8\\x15u\\x17\\xf4L\\xcb\\xce\\xac\\x83\\xccCW', b'\\x805\\xa8\\xe8i\\x99S\\x95\\xf9s-Q\\xcb\\x81\\x03|'), ' \"Height (in)\"': (b'\\xfc\\xfa,\\xee\\x9e!\\x98\\xe1y\\xaf0F\\xb7sxi', b'~Y] !\\xd7\\xd7\\xcd\\xe5', b'\\x97\"\\x1c\\xa2)\\xc8\\xac\\xe9\\xce\\xb8\\xd1>\\x19\\xcf\\xc2F', b'\\xbd\\xa1\\x05\\xcd\\x11\\x01\\x18>=\\xfc\\x93\"\\xf2i\\xafc'), ' \"Weight (lbs)\"': (b'\\xcfD\\x84\\xa7+\\x1d}\\x16\\xfc\\xfa\\xeb\\xf0y\\x86B\\xb6', b'O/\\r\\xcef\\x91\\xb7}\\x93', b'\\xc2\\\\n\\xa7PP\\xb0\\xce\\x1d\\xae\\xa6\\x89\\x95,\\xab\\xdd', b\"\\x1e\\x175\\xc3\\xc4\\xb2\\xd1q\\x18\\xa7\\xb3'\\x1f\\xbf\\xa8\\xa6\")}\n",
      "{'Name': (b'\\x1au\\xd3($\\\\H\\xdaOa\\xd6~\\xa6\\xe6\\xc3K', b'B\\xe8$\\x9e', b'\\xfcn\\x97\\xc0\\xda\\xe9\\xcbD\\xb7\\xc3\\x81@\\x11\\n\\xf37', b'\\xd6@w\\xc8R\\xf1\\x12f\\x93\\xd0\\xf9`\\xde\\xa8rH'), '     \"Sex\"': (b'\\xafN\\xce\\n\\xad\\x16;M\\x0b/\\xab\\xc0,\\x99\\x8c=', b'\\x1c\\xe2\\xf4\\x13\\xf9\\xac\\xb0\"\\xfd%', b'\\x95\\xb9\\xa7N\\xf8v\\xe9\\x9a\\x83\\xa8\\xcf\\xa5\\xb8DpW', b'\\x03\\x9d\\xe8\\x10+Q\\xc3\\xa1J:\\x0f~\\x1a\\x16\\x17\\xed'), ' \"Age\"': (b'~\\x16\\xe1\\xf4\\xb8K\\xb0\\xd8\\xa3wYr>\\x12\\x96:', b'\\xe6Z\\xcf\\x80\\xd4', b'\\x97\\xa2\\xd1^\\x8d\\xda\\x8d{\\xbf\\xcf1\\x84N\\x02\\x88\\x88', b'\\xcc\\x98\\xea\\xf87}t,\\x88\\x8d\\x9d\\xd1\\xc1\\xf8\\xad\\xd8'), ' \"Height (in)\"': (b'\\xfc\\xfa,\\xee\\x9e!\\x98\\xe1y\\xaf0F\\xb7sxi', b'\\xb7\\x075\\x15\\xbbg\\xd0\\xba7', b'\\xe2m\\x1d\\x9a\\xa7\\xd4\\x07\\x15\\x8c\\xfay\\xc7\\x90ox\\xa1', b'D\\x93\\xbf|0\\xd6G\\x88D=\\xfaG\\x1f\\xd9~\\x02'), ' \"Weight (lbs)\"': (b'\\xcfD\\x84\\xa7+\\x1d}\\x16\\xfc\\xfa\\xeb\\xf0y\\x86B\\xb6', b'\\xa2\\\\\\xb4#\\x14\\xae\\xc9e\\xc5', b\"\\xf1\\xd1\\xdd\\nmz\\xd9 \\xaba\\xaa'\\x9fL.\\xb2\", b'\\x1e\\xea\\x18-\\x81\\xe1e}\\x97_d@\\xf5\\xde\\xef\\x10')}\n",
      "{'Name': (b'\\x1au\\xd3($\\\\H\\xdaOa\\xd6~\\xa6\\xe6\\xc3K', b'\\xa4WT\\xb3', b'_\\x19\\x98\\xc49S\\x0b*\\xcb\\xa3\\x9b\\xc0\\x89I\\xe7[', b'\\xad\\x1a\\x9a\\xe4\\x816\\xda\\xc8\\x1a\\x95\\x1d\\xdfi\\x8f\\x07\\x80'), '     \"Sex\"': (b'\\xafN\\xce\\n\\xad\\x16;M\\x0b/\\xab\\xc0,\\x99\\x8c=', b'\\xd8OMs\\xe8\\x88\\xb4\\x06\\x11\\x1e', b'\\x7fp\\xbb\\x95\\xd6\\xbf\\x12\\x13\\x012\\xd8\\xe0@\\xacR\\x9a', b'\\xbb\\x89\\xc9kWaD\\xbd\\xf4+1_o\\x02a\\x8f'), ' \"Age\"': (b'~\\x16\\xe1\\xf4\\xb8K\\xb0\\xd8\\xa3wYr>\\x12\\x96:', b'$]o[\\xb6', b'$a\\xc5M0\\x80x\\xf0\\xb5\\x0eW\\x15\\xb8\\x08\\x0b\\x92', b'\\xef\\t\\xdfB\\x13\\xcd\\x1fD\\x92S\\xf7\\xe1\\xae\\xdd[\\xe2'), ' \"Height (in)\"': (b'\\xfc\\xfa,\\xee\\x9e!\\x98\\xe1y\\xaf0F\\xb7sxi', b'\\xceF=\\x08\\xc9\\x1e\\xf0\\xd7\\x80', b'\\x9e\\x98\\x86\\xddrJ\\xe0\\xf7\\r#1\\x95x\\xd9)?', b'\\xad\\x08\\xa6\\xda^(\\xe5E\\xbdj\\xfc\\x8b\\x95S\\x12\\xd3'), ' \"Weight (lbs)\"': (b'\\xcfD\\x84\\xa7+\\x1d}\\x16\\xfc\\xfa\\xeb\\xf0y\\x86B\\xb6', b'9`\\x9f`\\x9a\\x8eE]\\x8f', b'\\xe0A#\\\\\\xcf\\xed#\\x13\\xead\\xed\\x94\\xfc\\x1c:\\xd4', b'\\x98\\x10\\x92\\xfe\\x04\\xbf\\x10^\\xd7\\xcd\\xcc)\\x07\\xcd\\x89\\x19')}\n",
      "{'Name': (b'\\x1au\\xd3($\\\\H\\xdaOa\\xd6~\\xa6\\xe6\\xc3K', b'\\xb7\\xcbd\\xd7', b'\\x04\\xc3^\\xf7\\x84\\xb8m\\xb3lj\\x18\\t\\xf2\\xf0\\xf6k', b'\\xfb\\xef\\x19\\xa4jMG\\x05\\xf6\\x10\\xc4\\xd2@M\\xe5\\x8f'), '     \"Sex\"': (b'\\xafN\\xce\\n\\xad\\x16;M\\x0b/\\xab\\xc0,\\x99\\x8c=', b'\\x01\\xd6\\xd8_\\xebF\\xd907\\xd8', b'\\xed\\x05\\xb1\\x80D\\tg\\xdc\\xc6\\x12\\xe2q\\x1b\\xb7^&', b'%\\xa7\\xfb<\\xc7i\\xc0\\x08~\\xc63\\xa5M\\xa2\\x00 '), ' \"Age\"': (b'~\\x16\\xe1\\xf4\\xb8K\\xb0\\xd8\\xa3wYr>\\x12\\x96:', b'\\xf5\\x01\\x01\\xa7\\x91', b'\\xa9\\xbd\\xe3\\xb1\\xd6\\x81(\\x04\\xfa\\x86\\x96$\"\\xb01\\xe8', b'\\xae\\xe3 \\x90\\xa7\\xa6\\xb2\\xbc\\x06\\x84\\x9a?\\x98\\xcao\\xbd'), ' \"Height (in)\"': (b'\\xfc\\xfa,\\xee\\x9e!\\x98\\xe1y\\xaf0F\\xb7sxi', b'\\xdb$\\xd8d\\x82\\xa5\\xa1x\\x87', b'\\x85Ol\\x8f\\x94\\xaf\\x14);\\xfb\\xdd\\xe5<\\xdac\\xe4', b'\\xb26\\xb5\\x89\\xf73o\\x1d\\xfbV\\xa2\\xf2\\x9e\\xdd\\xb9\\xc6'), ' \"Weight (lbs)\"': (b'\\xcfD\\x84\\xa7+\\x1d}\\x16\\xfc\\xfa\\xeb\\xf0y\\x86B\\xb6', b'\\t^\\x96Y\\x11;\\xc2\\x9d\\xfd', b'9\\x07\\x98\\xbcH\\x8cl\\xb6J\\xef\\x98\\xb0\\x87h\\x1c\\x16', b'\\xbeG\\x9c\\x8a\\xde\\x0f\\xa9\\xe4\\x95\\xdd\\xf8\\xff\\xf7G\\x930')}\n",
      "{'Name': (b'\\x1au\\xd3($\\\\H\\xdaOa\\xd6~\\xa6\\xe6\\xc3K', b'\\x92\\xb1M=', b\"\\x95\\x82\\x90\\xbe\\x8f\\x92-\\x14D\\xcf\\xd6'\\xc4\\xcd\\xe7t\", b'\\x9d\\x7f\\xe5\\xae\\xbb4\\x7f42J\\xfer\\xd2\\x9f\\x99\\xe8'), '     \"Sex\"': (b'\\xafN\\xce\\n\\xad\\x16;M\\x0b/\\xab\\xc0,\\x99\\x8c=', b'\\xf4\\xa6<_\\x0c\\x9c|+cm', b'\\xe1\\xfbV|\\xbb\\xc5\\xbb}\\x86S\\r\\xa5\\x81\\x9f\\xbb\\n', b'\\x97[\\xd9O=M\\xe3;.YN_f\\x96\\xfd.'), ' \"Age\"': (b'~\\x16\\xe1\\xf4\\xb8K\\xb0\\xd8\\xa3wYr>\\x12\\x96:', b'E\\xd5\\x86k\\xb8', b'\\x1d[\\x19\\x04\\xda\\x88\\x9e\\xec\\x96\\x03\\xb6\\x14\\xf1\\xff*g', b'v\\x14g\\x1a\\xae|\\xb0q+\\x1d\\\\\\xfc\\\\^\\xdf\\x95'), ' \"Height (in)\"': (b'\\xfc\\xfa,\\xee\\x9e!\\x98\\xe1y\\xaf0F\\xb7sxi', b'f\\xde\\xaa\\x82\\xf8\\xbe\\x8b=o', b'}z\\xfa\\xe3_\\xf3L\\x17\\xdc\\xd6S\\xdb\\x82\\x94\\xac\\t', b'\\x19\\x12\\xab\\xe5\\xb8\\x80@\\xfc\\xb7\\x88\\x0e\\xc7\\xfe\\xb3\\x9c\\xdb'), ' \"Weight (lbs)\"': (b'\\xcfD\\x84\\xa7+\\x1d}\\x16\\xfc\\xfa\\xeb\\xf0y\\x86B\\xb6', b'R\\xf4\\xb4<\\x0b\\xec@\\x8c\\xf5', b'\\x17{\\xf9\\xdc\\xbc}\\xc5J\\x95b+\\xdb\\xf7\\xd4\\x89\\xcb', b'\\x9c\\x89u\\xee\\x12\\x98\\xa5v^\\x04?m\\xde\\x18\\xb7\\xa8')}\n",
      "{'Name': (b'\\x1au\\xd3($\\\\H\\xdaOa\\xd6~\\xa6\\xe6\\xc3K', b'\\xdc\\xebvb', b'\\xfcCl\\n\\x83\\xee3\\x81q\\xf9\\xf9\\xda\\x11\\xcc-R', b'\\xdd\\xe7\\x95q\\xba\\xdf\\x85`\\xaf\\x8f\\xa9\\x91/\\x06M\\xee'), '     \"Sex\"': (b'\\xafN\\xce\\n\\xad\\x16;M\\x0b/\\xab\\xc0,\\x99\\x8c=', b'\\xaf\\xc3W\\x0f\\x12^\\xc0\\xac$a', b'9\\xa9\\xc4\\x89\\xd9\\xdb\\xdf\\xe3\\x12\\xb7d/\\x92\\xd7\\xc8\\x91', b'J\\x1c\\x18\\xc3_\\xb0\\x8c_g\\x1d\\xa0\\xff\\x8f\\x8aD\\xa1'), ' \"Age\"': (b'~\\x16\\xe1\\xf4\\xb8K\\xb0\\xd8\\xa3wYr>\\x12\\x96:', b'=hD\\x8a8', b'\\x9d\\x0b\\x1f\\x08\\xcf\\x86\\xe3\\xec\\xfd\\xcbW\\x1f\\xba:\\xd3\\xed', b'/\\xaa\\xb6r\\x9cD\\xbc\\x87x\\xf4\\xcf\\xc0C\\x0e\\xf7\\xcf'), ' \"Height (in)\"': (b'\\xfc\\xfa,\\xee\\x9e!\\x98\\xe1y\\xaf0F\\xb7sxi', b'\\xf6\\x80\\x00\\xe6\\xb1\\x056}\\xc3', b'1a\\x84\\x89\\xb5k\\xf5\\xb6=\\xfb\\xf5\\x87&\\xb1=\\x12', b'pg\\x12\\xb9_9e\\x96jM\\xb16\\x06-\\x9e@'), ' \"Weight (lbs)\"': (b'\\xcfD\\x84\\xa7+\\x1d}\\x16\\xfc\\xfa\\xeb\\xf0y\\x86B\\xb6', b'y*;\\xc5T\\xa1\\x19\\xbd\\x9b', b'>\\xa8o\\xa2Z\\xc8\\xd2i\\x8e\\x8eV7\\x13`\\x05g', b'\\xdf\\x08\\x06C\\xbc-j\\xe2\\xb8\\x1e\\x02\\xb0M\\xde\\x98F')}\n",
      "{'Name': (b'\\x1au\\xd3($\\\\H\\xdaOa\\xd6~\\xa6\\xe6\\xc3K', b\"X\\x93'H\", b'\\x1a\\x8b2\\x0fs\\xc6\\xbd)\\xd0N\\xe5t\\xf5\\x12\\x06e', b'+E\\xbe7\\x89\\x95\\xaf\\xc8\\x0cP\\xeeTp\\x91i\\xf3'), '     \"Sex\"': (b'\\xafN\\xce\\n\\xad\\x16;M\\x0b/\\xab\\xc0,\\x99\\x8c=', b\"#'x\\x13\\x84\\x9c!Qw\\x17\", b'\\xf8\\x10\\xfdQYw\\xe7+\\x9d_\\xc2\\xaf\\x01k\\xc6\\xf9', b'\\x81$G,\\x92\\xd9J\\r\\xe0\\x9d2\\x9a\\xca&\\x85k'), ' \"Age\"': (b'~\\x16\\xe1\\xf4\\xb8K\\xb0\\xd8\\xa3wYr>\\x12\\x96:', b'\\xe8\\x16\\xd7\\x915', b'\\x8e\\nF\\x1b\\xde\\xe69i\\x9c4\\xf9\\x0c\\xbdi\\xf0\\xd3', b'!\\xd94\\xa8I\\x80\\x01\\x01*\\x89\\x9c\\xe0\\x0b\\x8b=\\xf4'), ' \"Height (in)\"': (b'\\xfc\\xfa,\\xee\\x9e!\\x98\\xe1y\\xaf0F\\xb7sxi', b'\\xfc]\\xb0Y@\\xc00\\xc8\\xab', b'>\\xe6\\xb6\\xd8\\x00s\\xac\\xbc\\xbd\\xcb\\x14yx-\\xe4\\x7f', b'<\\x1cbc\\x9f#A4l\\xc7\\xc6\\x97\\xc0w\\xdf\\x87'), ' \"Weight (lbs)\"': (b'\\xcfD\\x84\\xa7+\\x1d}\\x16\\xfc\\xfa\\xeb\\xf0y\\x86B\\xb6', b'P\\x0c\\xde\\x9a\\x03E\\x03\\xbbz', b'\\xb7s\\\\n<\\x01\\x81A\\xc2\\xdc/\\xe1\\xcf6\\xc6\\xd2', b'\\xe2\"e0<\\xae\\xfb7\\xeft,\\x10\\xb3E\\xd6\\xbb')}\n",
      "{'Name': (b'\\x1au\\xd3($\\\\H\\xdaOa\\xd6~\\xa6\\xe6\\xc3K', b'u\\xfd\\xacC', b'\\xcd\\xee\\x1f\\x95$\\xadZ\\xc0Y\\xa0\\xf2U\\xd5\\xc4\\xf8\\x9f', b'\\xcd\\xe6c\\x1e1x\\x03N\\x92\\xb2?\\xab\\x8e_\\x14\\x9f'), '     \"Sex\"': (b'\\xafN\\xce\\n\\xad\\x16;M\\x0b/\\xab\\xc0,\\x99\\x8c=', b'Z\\xb0\\xc4\\xc2\\x85\\xdcq\\x02\\xce\\xa8', b'h\\x82O\\x9e\\x1a\\x9a\\x85\\x12B\\x1b\\xfb\\x96\\xf6ofC', b'\\xd5A\\xf9\\x84[D\\xb1g\\xd5E\\xf8\\xbd\\xf6@1\\xcf'), ' \"Age\"': (b'~\\x16\\xe1\\xf4\\xb8K\\xb0\\xd8\\xa3wYr>\\x12\\x96:', b'\\xae\\xd2\\xbaNx', b'\\xa6\\xfb\\x19\\xe9\\x8b\\xff\\xd1}\\x93\\xea\\xb9\\xe5C\\xe0\\x0f\\x8b', b'\\xd8\\xb8\\xea\\r,\\x0c\\xaf\\xe9\\xc9\\x1d\\x18\\xb2rT\\xfd\\xdf'), ' \"Height (in)\"': (b'\\xfc\\xfa,\\xee\\x9e!\\x98\\xe1y\\xaf0F\\xb7sxi', b'A\\xd2d0\\x100!\\x8e\\xa6', b'npN\\x1a\\xa9\\x8f8\\xa1%\\x94\\xdc\\x83\\xcb\\x07\\xb3#', b'Y.\\xdd\\x83I1\\x85k!\\xc6\\xc3\\x8d\\x8c\\xcf\\xcf\\xbc'), ' \"Weight (lbs)\"': (b'\\xcfD\\x84\\xa7+\\x1d}\\x16\\xfc\\xfa\\xeb\\xf0y\\x86B\\xb6', b'\\x7fw_\\xa9\\xf7\\xaeA\\xefz', b'\\xa1\\x17\\xd8\\xb3DC\\xb9XK\\xcal\\x86\\x8c:\\x92\\x85', b'2\\xa4\\xa5\\xf9\\xd3\\xde\\x02#,^\\x8e\\xe9\\x10\\xa6\\xa5q')}\n",
      "{'Name': (b'\\x1au\\xd3($\\\\H\\xdaOa\\xd6~\\xa6\\xe6\\xc3K', b'\\xcdO\\x82[', b'$\\x01\\xe3v\\x942\\xd8\\x86\\xa2\\xb2\\xfex\\r5\\xca\\xfe', b'\\xb0Ww\\x86\\xd3CrG\\x18\\xda/\\xd1[\\xdc(\\xc8'), '     \"Sex\"': (b'\\xafN\\xce\\n\\xad\\x16;M\\x0b/\\xab\\xc0,\\x99\\x8c=', b'\\xb1\\xf3 \\xe5N\\x81l\\xd0\\xc3(', b'o\\xe8(\\xe4\\x13\\xfcc\\xfc\\x90\\x9dBNw\\xfe\\xe7H', b'\\xd6\\xb8N\\x98-.\\r\\xac}\\xea\\xecF\\xffd.='), ' \"Age\"': (b'~\\x16\\xe1\\xf4\\xb8K\\xb0\\xd8\\xa3wYr>\\x12\\x96:', b'\\x0e5\\xb9S\\x96', b'\\x87\\x804\\xdc\\x1a_\\xd9\\xa9\\x86)s\\xc0\\x85\\xa2KN', b'`\\x1fw\\x02]\\x18\\xd6oM\\x99\\x8e\\x04_\\xae?\\x8a'), ' \"Height (in)\"': (b'\\xfc\\xfa,\\xee\\x9e!\\x98\\xe1y\\xaf0F\\xb7sxi', b'\\xa8\\x18\\xebm\\x8e\\xe1\\x1c{s', b\"'H\\xd3\\xce\\xcdfV|18s\\xdc\\x9aS!\\xb8\", b'\\xc28\\x11\\xd3\\xe9p\\x148\\xe9\\xec8\\x198u\\x0c&'), ' \"Weight (lbs)\"': (b'\\xcfD\\x84\\xa7+\\x1d}\\x16\\xfc\\xfa\\xeb\\xf0y\\x86B\\xb6', b'A\\xb8\\xf3\\x8e\\x91C\\xc4\\xea\\xc3', b'/\\xd05r\\x08/\\x19h;\\x0cqf\\x8a\\xe4\\x1d\\xba', b'\\xffS@m\\xb6\\xf6\\x91$,.\\x9fU\\x04\\xf1\\xc3\\x0c')}\n",
      "{'Name': (b'\\x1au\\xd3($\\\\H\\xdaOa\\xd6~\\xa6\\xe6\\xc3K', b'M\\x14J\\x96', b'a\\xa0p\\xdfg\\xe8aLdQ{\\x07~\\xac\\xdcA', b'y\\xa7\\x96,\\xfay\\x97\\xccD\\xe4\\x00\\xdb\\xdc\\xf1:5'), '     \"Sex\"': (b'\\xafN\\xce\\n\\xad\\x16;M\\x0b/\\xab\\xc0,\\x99\\x8c=', b'Cz\\x97\\xe3*\\x80-\\xe7\\x82F', b'0\\x0bCOll,\\x80^j\\xfb!\\x9bR\\xc7\\x19', b'\\xa3\\x17\\xfe\\x05\\xcd\\xa6\\x8a)\\x92\\xef\\x96\\xde?#\\xb5\\xaa'), ' \"Age\"': (b'~\\x16\\xe1\\xf4\\xb8K\\xb0\\xd8\\xa3wYr>\\x12\\x96:', b'+gfAd', b'\\xac\\x08\\x831\\xb8\\x1b\\xedz\\x9dX+u\\xae\\x87\\x96e', b'\\xb8\\x97\\x1d\\xb1\\xf4\\xdf\\x05\\x12Y:\\xfb\\xb8\\x008~+'), ' \"Height (in)\"': (b'\\xfc\\xfa,\\xee\\x9e!\\x98\\xe1y\\xaf0F\\xb7sxi', b'hUiS\\x19A\\xb22\\xc7', b'/\\x01\\xed\\\\+\\xf7\\xad\\xb4\\xdd\\xd3\\xfb[k\\x02\\x84\\x0b', b'\\x18\\xae\\x85\\xf9\\x1d4\\xb2-\\x98wCS\\x18\\xbb\\x90\\xf7'), ' \"Weight (lbs)\"': (b'\\xcfD\\x84\\xa7+\\x1d}\\x16\\xfc\\xfa\\xeb\\xf0y\\x86B\\xb6', b'\\xb0`\\n/32Usc', b'\\xb9\\x8a\\x17\\x7f\\xa0#\\xfaN\\xa8\\x9b\\xac|\\xa1\\xcc8+', b'\\x03\\xadVRG\\xaf\\x97\\xcfUD\\x80\\x9ee\\t\\x9a\\xa5')}\n",
      "{'Name': (b'\\x1au\\xd3($\\\\H\\xdaOa\\xd6~\\xa6\\xe6\\xc3K', b'\\x9f\\n\\xc5\\xce', b'\\xbc\\xb80\\xf5\\x90deQ\\xfd\\xca0\\xbf\\xe9j\\x00|', b'D`P\\xe6\\x11\\x88\\x08\\xfft\\x81\\xc5\\x11\\xdb\\x10|v'), '     \"Sex\"': (b'\\xafN\\xce\\n\\xad\\x16;M\\x0b/\\xab\\xc0,\\x99\\x8c=', b'?\\xee\\x15\\x1bO\\xc3\\x06\\x9dQ/', b'k1\\xed6\\xd4\\xce\\x13Z\\x12\\x1c\\xb1\\x0f]\\xdc\\xa2\\xf0', b'\\xfag&\\xf1gA\\xe7\\nN\\x9b\\x03\\xb7d6\\x1d\\xf1'), ' \"Age\"': (b'~\\x16\\xe1\\xf4\\xb8K\\xb0\\xd8\\xa3wYr>\\x12\\x96:', b'!c*\\x7f\\xa8', b'\\xffN#\\x10\\xee\\x87S\\xeb\\xb4\\x88K\\x90 nD,', b'\\xb3\\xa60mu\\x8e%\\xe53i\\x8e\\x90\\x03\\xb2\\xec&'), ' \"Height (in)\"': (b'\\xfc\\xfa,\\xee\\x9e!\\x98\\xe1y\\xaf0F\\xb7sxi', b'\\xfcc\\xa9\\x93\\xad\\xa2\\x9a\\x9b ', b'\\xca} ^-\\xf7\\x0c\\xd58\\x0f\\xc9\\xb3\\xb6GU\\xc0', b'\\xc9\\xbc$0\\x04a_\\x1c\\xcfaC\\xbe\\xee\\xc7\\\\\\xf0'), ' \"Weight (lbs)\"': (b'\\xcfD\\x84\\xa7+\\x1d}\\x16\\xfc\\xfa\\xeb\\xf0y\\x86B\\xb6', b'\\xb6\\xed=> O\\x81\\xbc\\x13', b'\\x99\\x04)\\x12\\\\S\\xd3\\x15\\xe6A\\xcad\\x87\\x95\\xc1\\xb3', b'\\xf1#-8\\nl\\x92:\\xe4\\xc6\\x8b\\xed\\x10\\xd4Z\\xb4')}\n",
      "{'Name': (b'\\x1au\\xd3($\\\\H\\xdaOa\\xd6~\\xa6\\xe6\\xc3K', b'F\\xd8\\x9c\\x15', b'\\n\\xe2\\x12?\\xc1\\xd1j\\xc09\\xe2\\xd2\\x8b\\xf9\\xbf\\xe4\\x11', b'\\xec\\xe5I\\xb1\\xfaTd\\xe8n2\\xb5\\xd1p0\\xd0\\xc8'), '     \"Sex\"': (b'\\xafN\\xce\\n\\xad\\x16;M\\x0b/\\xab\\xc0,\\x99\\x8c=', b'\\t\\x11\\xac\\xd1se\\xa5\\x08\\x8e\\xb7', b'\\xcd(\\x0e\\xb0)\\xab\\x92\\x1c\\xa0=>)\\x0b\\x7f\\xf9r', b'\\xe5E\"\\x15\\xc8c\\xc7>P\\xd7Bn\\xbf\\xcb\"\\xae'), ' \"Age\"': (b'~\\x16\\xe1\\xf4\\xb8K\\xb0\\xd8\\xa3wYr>\\x12\\x96:', b'\\xb3\\xc6jl\\xc4', b'\\xcc\\xa2/\\x03\\x16M\\xf6v3R\\xdf\\t\\xf0&\\x9c\\xae', b'\\xa4\\x83~\\xf7\\xdb\\xb5%>\\x88!HV\\xc2f\\x85R'), ' \"Height (in)\"': (b'\\xfc\\xfa,\\xee\\x9e!\\x98\\xe1y\\xaf0F\\xb7sxi', b'\\xe0\\x88@\\xec\\xb8}\\xc0Q\\xf5', b'\\x1a7\\xf7\\xd5\\x7f\\xa8\\xe48N\\x1e+3\\xd4\\x84N\\x07', b'\\xb3!\\xeb\\xaf\\x9f*\\xae\\xab\\x89\\xa69\\xab\\x98\\xdewx'), ' \"Weight (lbs)\"': (b'\\xcfD\\x84\\xa7+\\x1d}\\x16\\xfc\\xfa\\xeb\\xf0y\\x86B\\xb6', b'\\xfa\\xbeuWZ\\x1c9Hp', b'\\xaf\\x08\\xa5\\xb6\\xb4\\x87\\xff*N~d4+\\xc6X\\xf8', b'\\xb7&\\xbf\\xf0\\x9dQ1\\x17Bygd\\xd9\\xb0\\xa8n')}\n",
      "{'Name': (b'\\x1au\\xd3($\\\\H\\xdaOa\\xd6~\\xa6\\xe6\\xc3K', b'\\xab+p\\x9c', b'^\\xd9\\r7TI\\xa10f\\xdb\\xffURw\\xdd?', b'i\\xaf\\xa1c)\\x1e\\xed\\x82e\\xfc;\\xc9dT/\\xdb'), '     \"Sex\"': (b'\\xafN\\xce\\n\\xad\\x16;M\\x0b/\\xab\\xc0,\\x99\\x8c=', b'\\x16\\x9ao\\xee\\x0f\\xa9\\xd2\\x82O\\xc0', b'$N\\xef\\x08m`\\x9f\\xd4\\xabY\\xed\\x03\\x8c\\xef\\xb3\\xcb', b'YiO8\\x85\\x186\\xe7.\\x9bJ\\x0e\\x8c\\x85\\x97\\xfa'), ' \"Age\"': (b'~\\x16\\xe1\\xf4\\xb8K\\xb0\\xd8\\xa3wYr>\\x12\\x96:', b'B\\xcb\\xdb\\xf1\\xc2', b'\\xe5\\xd3l\\xea\\x16)I\\xef\\x99\\xd9X\\x03\\x8c@R\\x91', b'\\x82>Y\\x8f\\x85(4\\xde\\xcck\\xd8\\xa3\\xccu\\xfa\\xcf'), ' \"Height (in)\"': (b'\\xfc\\xfa,\\xee\\x9e!\\x98\\xe1y\\xaf0F\\xb7sxi', b'\\x040\\xe6\\xe9\\x93\\x03\\xb2\\xea\"', b'\\xcab\\xaa>mQJ\\x81\\x02)\\x10,\\xd5\\xe3\\xcb\\xc5', b\"E\\xdc\\xc5w\\xddO\\x88\\xf2\\xd3\\xcf\\x8f\\x163'\\xe0(\"), ' \"Weight (lbs)\"': (b'\\xcfD\\x84\\xa7+\\x1d}\\x16\\xfc\\xfa\\xeb\\xf0y\\x86B\\xb6', b'9U\\x1c\\xde#\\x8e\\xd6\\x1b\\x07', b'\\x89U4\\xe3:\\xa0y<\\x98\\x84\\xa5\\x85#\\x0cO\\xa5', b'\\xac\\xc5\\xf2\\x87N\\xefXV\\xa6\\x1bf\\xb2\\xd8#\\xd2\\x89')}\n"
     ]
    }
   ],
   "source": [
    "KEK, KEK_salt = generate_key(\"myP@ssw0rd!\")\n",
    "encrypt_CSV('biostats.csv', KEK)"
   ]
  },
  {
   "cell_type": "code",
   "execution_count": 168,
   "metadata": {},
   "outputs": [
    {
     "name": "stdout",
     "output_type": "stream",
     "text": [
      "['Name', '     \"Sex\"', ' \"Age\"', ' \"Height (in)\"', ' \"Weight (lbs)\"']\n"
     ]
    },
    {
     "ename": "ValueError",
     "evalue": "MAC check failed",
     "output_type": "error",
     "traceback": [
      "\u001b[0;31m---------------------------------------------------------------------------\u001b[0m",
      "\u001b[0;31mValueError\u001b[0m                                Traceback (most recent call last)",
      "\u001b[0;32m<ipython-input-168-616840067f6b>\u001b[0m in \u001b[0;36m<module>\u001b[0;34m\u001b[0m\n\u001b[0;32m----> 1\u001b[0;31m \u001b[0mdecrypt_CSV\u001b[0m\u001b[0;34m(\u001b[0m\u001b[0;34m'biostats_enc.csv'\u001b[0m\u001b[0;34m,\u001b[0m \u001b[0mKEK\u001b[0m\u001b[0;34m)\u001b[0m\u001b[0;34m\u001b[0m\u001b[0;34m\u001b[0m\u001b[0m\n\u001b[0m",
      "\u001b[0;32m<ipython-input-166-d94692623bbf>\u001b[0m in \u001b[0;36mdecrypt_CSV\u001b[0;34m(enc_file_name, KEK, N, r, p, sklen, saltlen)\u001b[0m\n\u001b[1;32m     48\u001b[0m             \u001b[0;34m(\u001b[0m\u001b[0msalt\u001b[0m\u001b[0;34m,\u001b[0m \u001b[0mciphertext\u001b[0m\u001b[0;34m,\u001b[0m \u001b[0mnonce\u001b[0m\u001b[0;34m,\u001b[0m \u001b[0mauthTag\u001b[0m\u001b[0;34m)\u001b[0m \u001b[0;34m=\u001b[0m \u001b[0;34m[\u001b[0m\u001b[0mw\u001b[0m\u001b[0;34m.\u001b[0m\u001b[0mencode\u001b[0m\u001b[0;34m(\u001b[0m\u001b[0;34m)\u001b[0m \u001b[0;32mfor\u001b[0m \u001b[0mw\u001b[0m \u001b[0;32min\u001b[0m \u001b[0mentry\u001b[0m\u001b[0;34m]\u001b[0m\u001b[0;34m\u001b[0m\u001b[0;34m\u001b[0m\u001b[0m\n\u001b[1;32m     49\u001b[0m             \u001b[0msecretKey\u001b[0m \u001b[0;34m=\u001b[0m \u001b[0mscrypt\u001b[0m\u001b[0;34m.\u001b[0m\u001b[0mhash\u001b[0m\u001b[0;34m(\u001b[0m\u001b[0mKEK\u001b[0m\u001b[0;34m,\u001b[0m \u001b[0msalt\u001b[0m\u001b[0;34m,\u001b[0m \u001b[0mN\u001b[0m\u001b[0;34m,\u001b[0m \u001b[0mr\u001b[0m\u001b[0;34m,\u001b[0m \u001b[0mp\u001b[0m\u001b[0;34m,\u001b[0m \u001b[0msklen\u001b[0m\u001b[0;34m)\u001b[0m\u001b[0;34m\u001b[0m\u001b[0;34m\u001b[0m\u001b[0m\n\u001b[0;32m---> 50\u001b[0;31m             \u001b[0mtest\u001b[0m \u001b[0;34m=\u001b[0m \u001b[0mdecrypt_AES_GCM\u001b[0m\u001b[0;34m(\u001b[0m\u001b[0;34m(\u001b[0m\u001b[0msalt\u001b[0m\u001b[0;34m,\u001b[0m \u001b[0mciphertext\u001b[0m\u001b[0;34m,\u001b[0m \u001b[0mnonce\u001b[0m\u001b[0;34m,\u001b[0m \u001b[0mauthTag\u001b[0m\u001b[0;34m)\u001b[0m\u001b[0;34m,\u001b[0m \u001b[0msecretKey\u001b[0m\u001b[0;34m)\u001b[0m\u001b[0;34m\u001b[0m\u001b[0;34m\u001b[0m\u001b[0m\n\u001b[0m\u001b[1;32m     51\u001b[0m             \u001b[0mprint\u001b[0m\u001b[0;34m(\u001b[0m\u001b[0msalt\u001b[0m\u001b[0;34m)\u001b[0m\u001b[0;34m\u001b[0m\u001b[0;34m\u001b[0m\u001b[0m\n\u001b[1;32m     52\u001b[0m             \u001b[0;32mreturn\u001b[0m\u001b[0;34m\u001b[0m\u001b[0;34m\u001b[0m\u001b[0m\n",
      "\u001b[0;32m<ipython-input-2-8ec8e136f7f9>\u001b[0m in \u001b[0;36mdecrypt_AES_GCM\u001b[0;34m(encryptedMsg, secretKey)\u001b[0m\n\u001b[1;32m     37\u001b[0m     \u001b[0;34m(\u001b[0m\u001b[0msalt\u001b[0m\u001b[0;34m,\u001b[0m \u001b[0mciphertext\u001b[0m\u001b[0;34m,\u001b[0m \u001b[0mnonce\u001b[0m\u001b[0;34m,\u001b[0m \u001b[0mauthTag\u001b[0m\u001b[0;34m)\u001b[0m \u001b[0;34m=\u001b[0m \u001b[0mencryptedMsg\u001b[0m\u001b[0;34m\u001b[0m\u001b[0;34m\u001b[0m\u001b[0m\n\u001b[1;32m     38\u001b[0m     \u001b[0maesCipher\u001b[0m \u001b[0;34m=\u001b[0m \u001b[0mAES\u001b[0m\u001b[0;34m.\u001b[0m\u001b[0mnew\u001b[0m\u001b[0;34m(\u001b[0m\u001b[0msecretKey\u001b[0m\u001b[0;34m,\u001b[0m \u001b[0mAES\u001b[0m\u001b[0;34m.\u001b[0m\u001b[0mMODE_GCM\u001b[0m\u001b[0;34m,\u001b[0m \u001b[0mnonce\u001b[0m\u001b[0;34m)\u001b[0m\u001b[0;34m\u001b[0m\u001b[0;34m\u001b[0m\u001b[0m\n\u001b[0;32m---> 39\u001b[0;31m     \u001b[0mplaintext\u001b[0m \u001b[0;34m=\u001b[0m \u001b[0maesCipher\u001b[0m\u001b[0;34m.\u001b[0m\u001b[0mdecrypt_and_verify\u001b[0m\u001b[0;34m(\u001b[0m\u001b[0mciphertext\u001b[0m\u001b[0;34m,\u001b[0m \u001b[0mauthTag\u001b[0m\u001b[0;34m)\u001b[0m\u001b[0;34m\u001b[0m\u001b[0;34m\u001b[0m\u001b[0m\n\u001b[0m\u001b[1;32m     40\u001b[0m     \u001b[0;32mreturn\u001b[0m \u001b[0mplaintext\u001b[0m\u001b[0;34m\u001b[0m\u001b[0;34m\u001b[0m\u001b[0m\n",
      "\u001b[0;32m/opt/anaconda3/lib/python3.7/site-packages/Crypto/Cipher/_mode_gcm.py\u001b[0m in \u001b[0;36mdecrypt_and_verify\u001b[0;34m(self, ciphertext, received_mac_tag, output)\u001b[0m\n\u001b[1;32m    565\u001b[0m \u001b[0;34m\u001b[0m\u001b[0m\n\u001b[1;32m    566\u001b[0m         \u001b[0mplaintext\u001b[0m \u001b[0;34m=\u001b[0m \u001b[0mself\u001b[0m\u001b[0;34m.\u001b[0m\u001b[0mdecrypt\u001b[0m\u001b[0;34m(\u001b[0m\u001b[0mciphertext\u001b[0m\u001b[0;34m,\u001b[0m \u001b[0moutput\u001b[0m\u001b[0;34m=\u001b[0m\u001b[0moutput\u001b[0m\u001b[0;34m)\u001b[0m\u001b[0;34m\u001b[0m\u001b[0;34m\u001b[0m\u001b[0m\n\u001b[0;32m--> 567\u001b[0;31m         \u001b[0mself\u001b[0m\u001b[0;34m.\u001b[0m\u001b[0mverify\u001b[0m\u001b[0;34m(\u001b[0m\u001b[0mreceived_mac_tag\u001b[0m\u001b[0;34m)\u001b[0m\u001b[0;34m\u001b[0m\u001b[0;34m\u001b[0m\u001b[0m\n\u001b[0m\u001b[1;32m    568\u001b[0m         \u001b[0;32mreturn\u001b[0m \u001b[0mplaintext\u001b[0m\u001b[0;34m\u001b[0m\u001b[0;34m\u001b[0m\u001b[0m\n\u001b[1;32m    569\u001b[0m \u001b[0;34m\u001b[0m\u001b[0m\n",
      "\u001b[0;32m/opt/anaconda3/lib/python3.7/site-packages/Crypto/Cipher/_mode_gcm.py\u001b[0m in \u001b[0;36mverify\u001b[0;34m(self, received_mac_tag)\u001b[0m\n\u001b[1;32m    506\u001b[0m \u001b[0;34m\u001b[0m\u001b[0m\n\u001b[1;32m    507\u001b[0m         \u001b[0;32mif\u001b[0m \u001b[0mmac1\u001b[0m\u001b[0;34m.\u001b[0m\u001b[0mdigest\u001b[0m\u001b[0;34m(\u001b[0m\u001b[0;34m)\u001b[0m \u001b[0;34m!=\u001b[0m \u001b[0mmac2\u001b[0m\u001b[0;34m.\u001b[0m\u001b[0mdigest\u001b[0m\u001b[0;34m(\u001b[0m\u001b[0;34m)\u001b[0m\u001b[0;34m:\u001b[0m\u001b[0;34m\u001b[0m\u001b[0;34m\u001b[0m\u001b[0m\n\u001b[0;32m--> 508\u001b[0;31m             \u001b[0;32mraise\u001b[0m \u001b[0mValueError\u001b[0m\u001b[0;34m(\u001b[0m\u001b[0;34m\"MAC check failed\"\u001b[0m\u001b[0;34m)\u001b[0m\u001b[0;34m\u001b[0m\u001b[0;34m\u001b[0m\u001b[0m\n\u001b[0m\u001b[1;32m    509\u001b[0m \u001b[0;34m\u001b[0m\u001b[0m\n\u001b[1;32m    510\u001b[0m     \u001b[0;32mdef\u001b[0m \u001b[0mhexverify\u001b[0m\u001b[0;34m(\u001b[0m\u001b[0mself\u001b[0m\u001b[0;34m,\u001b[0m \u001b[0mhex_mac_tag\u001b[0m\u001b[0;34m)\u001b[0m\u001b[0;34m:\u001b[0m\u001b[0;34m\u001b[0m\u001b[0;34m\u001b[0m\u001b[0m\n",
      "\u001b[0;31mValueError\u001b[0m: MAC check failed"
     ]
    }
   ],
   "source": [
    "decrypt_CSV('biostats_enc.csv', KEK)"
   ]
  },
  {
   "cell_type": "markdown",
   "metadata": {},
   "source": [
    "* * *"
   ]
  },
  {
   "cell_type": "code",
   "execution_count": 4,
   "metadata": {
    "collapsed": true
   },
   "outputs": [
    {
     "name": "stdout",
     "output_type": "stream",
     "text": [
      "encryptedMsg {'kdfSalt': b'890518ef840f2629f88b1f59b16558d3', 'ciphertext': b'5ed016c8f6e3ef0cd7b48708c17b6b7486c01d2efdba00f6e41b1a871e5799e570315d7771ddbe4636464963336c8c05ab2cb1f7719004d7cb7ce94d9d3cbc2258fad96976afabbd490a9e98e6793a3f3d10acc5ac820b7f7081cbb61861078981164b7c4161ef0e87d5b437cbe89323b826ef8388699ca0989f0b1362a8f90f45f4c5a389f5ac5d3a92abba9e6f431377eeeff24c9278ae8e1ad817dd838bd69ffb48699894b663addd1fbb030e9383f9e3a126760be9a0ff0addb4e048ca38e5d570a2ceb0811c9fee16084e7dc72cac698d77a951113e85c65e16a17a0844ebc5879f13506516390d47a933c2a7aba093cb3cf429863fbb06389eeb105b7f7cbf050478f66755c20571ff43f7058d59469943dcee422aeb45682222b46cc064a43590f0b3d1881ce82639db0981e49c480c6db9db5a4e27a493b39d4a63d7a935aab67c3848b1357f077182763eee08c956e2e61e3cd0b8a59c9396f7ff897f813ed0810a47af4157fca853c521e6fc656c3452acf5ed1fddf04b1c98e6f7dae24b9ddf8e81206c864521eb0461de5bd3d8dc9943f5d7a455d438dad2206c82b95fb9742e8a3ca85d3636762f4ee9bd3c62beb126414eab781c35000033a58c73009c2d5d978ef728dc17f112965222abe954d64dfcf774340cc096381d92080dd59fe1aeebec2a02ca900fd986e8f0cbc4508c90134e37f6db9dc7412c6811d89caf9eef77f12db4f7fd0747b49e4dd5c7e2c1b88e388bdf4990b3dbe788e6fff154664367cbc65be973acf35f696f7869445c464923482652d1163af6001decb925aa136aa60d5e4c1cfd0640c4674aae86ee25bc27e65d1be230c6e30d55fadbbf3459f050bc0eff61a5619c0a3345aeb6a1a9ac709bf4c7133c71ebd7b14ec2ee9450be82525c65930f71580a8849dc97c8f605c693a123388a3b3e5a6529c6818493c7717e932366d64564be6f65405e68168db46ef2b8ecae2866e4b8a3e51a53d0ffef596e787674dd940086cd31590f3db14d0165ec75e0f8f55b4e55e882ccb87de5013a4fa387503ea8a0c2a590dc079b3e4c5fa2ce318d5e5e92b0fee5b636559eaf25d0243246f01d80de77875e7bcbd6fd2fc5ab006233fae398bc15159ed13f0cab0525228acd62c3e44ca0137d6dc23f9450217a1b0c2f2765d52175494910889c9f01a5da5e5c2e885e3f6f7cc49eee6881c40bfd62a13fc310af598a24af05b714c82d899b5adac4fb053a631d0491597606fd3b7882774cdd5eb079f72377f7e55cd9e24ff4a97aadc343eafde79a4e33a24486886708c91877c9bd12902df060aee744b08f335a8463d3cd0f776f73deab6eafd590d9b70978db723b25de5a219472af2e23ef21d237fcab7b79d14f173b19f2b7aec27a828f', 'aesIV': b'5c300372080c645f54a4bdcb7b7ea3a4', 'authTag': b'a1b77a88b83f93b8999d2ffb683922d0'}\n"
     ]
    }
   ],
   "source": [
    "msg = \"The Hitchhiker's Guide to the Galaxy has a few things to say on the subject of towels. A towel, it says, is about the most massively useful thing an interstellar hitch hiker can have. Partly it has great practical value—you can wrap it around you for warmth as you bound across the cold moons of Jaglan Beta; you can lie on it on the brilliant marble‐sanded beaches of Santraginus V, inhaling the heady sea vapours; you can sleep under it beneath the stars which shine so redly on the desert world of Kakrafoon; use it to sail a mini raft down the slow heavy river Moth; wet it for use in hand‐to‐hand‐combat; wrap it round your head to ward off noxious fumes or to avoid the gaze of the Ravenous Bugblatter Beast of Traal (a mindbogglingly stupid animal, it assumes that if you can't see it, it can't see you—daft as a brush, but very ravenous); you can wave your towel in emergencies as a distress signal, and of course dry yourself off with it if it still seems to be clean enough.\"\n",
    "#msg = ['All`s Well That Ends Well', 'As You Like It', 'Comedy of Errors', 'Love`s Labour`s Lost', 'Measure for Measure', 'Merchant of Venice', 'Merry Wives of Windsor', 'Midsummer Night`s Dream', 'Much Ado about Nothing', 'Taming of the Shrew', 'Tempest', 'Twelfth Night', 'Two Gentlemen of Verona', 'Winter`s Tale']\n",
    "password = \"myP@ssw0rd!\"\n",
    "\n",
    "DEK, salt = generate_key(password)\n",
    "encryptedMsg = encrypt_AES_GCM(msg, DEK, salt)\n",
    "print(\"encryptedMsg\", {\n",
    "    'kdfSalt': binascii.hexlify(encryptedMsg[0]),\n",
    "    'ciphertext': binascii.hexlify(encryptedMsg[1]),\n",
    "    'aesIV': binascii.hexlify(encryptedMsg[2]),\n",
    "    'authTag': binascii.hexlify(encryptedMsg[3])\n",
    "})"
   ]
  },
  {
   "cell_type": "code",
   "execution_count": 5,
   "metadata": {
    "collapsed": true
   },
   "outputs": [
    {
     "name": "stdout",
     "output_type": "stream",
     "text": [
      "Decrypted message: The Hitchhiker's Guide to the Galaxy has a few things to say on the subject of towels. A towel, it says, is about the most massively useful thing an interstellar hitch hiker can have. Partly it has great practical value—you can wrap it around you for warmth as you bound across the cold moons of Jaglan Beta; you can lie on it on the brilliant marble‐sanded beaches of Santraginus V, inhaling the heady sea vapours; you can sleep under it beneath the stars which shine so redly on the desert world of Kakrafoon; use it to sail a mini raft down the slow heavy river Moth; wet it for use in hand‐to‐hand‐combat; wrap it round your head to ward off noxious fumes or to avoid the gaze of the Ravenous Bugblatter Beast of Traal (a mindbogglingly stupid animal, it assumes that if you can't see it, it can't see you—daft as a brush, but very ravenous); you can wave your towel in emergencies as a distress signal, and of course dry yourself off with it if it still seems to be clean enough.\n"
     ]
    }
   ],
   "source": [
    "decryptedMsg = decrypt_AES_GCM(encryptedMsg, DEK)\n",
    "print(\"Decrypted message:\", decryptedMsg.decode())"
   ]
  },
  {
   "cell_type": "markdown",
   "metadata": {},
   "source": [
    "***"
   ]
  },
  {
   "cell_type": "code",
   "execution_count": 200,
   "metadata": {},
   "outputs": [],
   "source": [
    "def encrypt_file(file_name, secretKey, salt):\n",
    "    with open(file_name, 'rb') as file:\n",
    "        plaintext = file.read()\n",
    "    (salt, ciphertext, nonce, authTag) = encrypt_AES_GCM(plaintext, secretKey, salt)\n",
    "    # with open(file_name + \".enc\", 'wb') as f:\n",
    "    #     f.write(salt + b'\\n')\n",
    "    #     f.write(ciphertext + b'\\n')\n",
    "    #     f.write(nonce + b'\\n')\n",
    "    #     f.write(authTag + b'\\n')  \n",
    "    # this can be done more efficiently\n",
    "    with open(file_name + \".salt.txt\", 'wb') as f:\n",
    "        f.write(salt)\n",
    "    with open(file_name + \".enc\", 'wb') as f:\n",
    "        f.write(ciphertext)\n",
    "    with open(file_name + \".nonce.txt\", 'wb') as f:\n",
    "        f.write(nonce)\n",
    "    with open(file_name + \".authTag.txt\", 'wb') as f:\n",
    "        f.write(authTag)  \n",
    "            \n",
    "def decrypt_file(file_name, secretKey):\n",
    "    with open(file_name[:-4] + \".salt.txt\", 'rb') as f:\n",
    "        salt = f.read()\n",
    "    with open(file_name) as f:\n",
    "        ciphertext = f.read()\n",
    "    with open(file_name[:-4] + \".nonce.txt\", 'rb') as f:\n",
    "        nonce = f.read()\n",
    "    with open(file_name[:-4] + \".authTag.txt\", 'rb') as f:\n",
    "        authTag = f.read()\n",
    "    (salt, ciphertext, nonce, authTag) = encryptedMsg\n",
    "    plaintext = decrypt_AES_GCM(encryptedMsg, secretKey)\n",
    "    with open(file_name[:-4], 'wb') as f:\n",
    "        f.write(plaintext)"
   ]
  },
  {
   "cell_type": "code",
   "execution_count": 201,
   "metadata": {},
   "outputs": [],
   "source": [
    "password = \"myP@ssw0rd!\"\n",
    "DEK, salt = generate_key(password)\n",
    "encrypt_file('/Users/dzackon/Desktop/testfile.txt', DEK, salt)"
   ]
  },
  {
   "cell_type": "code",
   "execution_count": null,
   "metadata": {},
   "outputs": [],
   "source": [
    "decrypt_AES_GCM('/Users/dzackon/Desktop/testfile.txt.enc', DEK)"
   ]
  }
 ],
 "metadata": {
  "kernelspec": {
   "display_name": "Python 3",
   "language": "python",
   "name": "python3"
  },
  "language_info": {
   "codemirror_mode": {
    "name": "ipython",
    "version": 3
   },
   "file_extension": ".py",
   "mimetype": "text/x-python",
   "name": "python",
   "nbconvert_exporter": "python",
   "pygments_lexer": "ipython3",
   "version": "3.7.7"
  }
 },
 "nbformat": 4,
 "nbformat_minor": 4
}
