{
 "cells": [
  {
   "cell_type": "code",
   "execution_count": 1,
   "metadata": {},
   "outputs": [],
   "source": [
    "from Crypto.Cipher import AES\n",
    "import scrypt, os, binascii\n",
    "import csv\n",
    "import itertools"
   ]
  },
  {
   "cell_type": "code",
   "execution_count": 169,
   "metadata": {},
   "outputs": [],
   "source": [
    "def generate_key(passwd, N=16384, r=8, p=1, sklen=32, saltlen=16):\n",
    "    \"\"\"\n",
    "    * passwd:              str or str encoded as bype object\n",
    "    * saltlen:             8 bytes minimum, 16 bytes recommended\n",
    "    * salt:                saltlen-byte (non-secret) random data for scrypt key derivation function\n",
    "    * secretKey:           bytes object of length sklen\n",
    "        * N:               iterations count (a power of 2 greater than 1) (e.g. 16384, 2048)\n",
    "        * r:               block size \n",
    "        * p:               parallelism factor (where r*p < 2^30)\n",
    "        * sklen:           no. of bytes to generate as output (<= (2**32 - 1)*32)\n",
    "    * Memory required = 128 * N * r * p bytes\n",
    "    \"\"\"\n",
    "    if type(passwd) == str:\n",
    "        passwd = passwd.encode()\n",
    "    salt = os.urandom(saltlen)\n",
    "    secretKey = scrypt.hash(passwd, salt, N, r, p, sklen)\n",
    "    return secretKey, salt\n",
    "    \n",
    "def encrypt_AES_GCM(msg, secretKey, salt):\n",
    "    '''\n",
    "    * msg:                 str or str encoded as bype object\n",
    "    * aesCipher:           AES-256 cipher in Galois/Counter Mode\n",
    "    * aesCipher.nonce:     nonce bype object\n",
    "    * ciphertext, authTag: ciphertext and MAC tag\n",
    "    '''\n",
    "    if type(msg) == str:\n",
    "        msg = msg.encode()\n",
    "    aesCipher = AES.new(secretKey, AES.MODE_GCM)\n",
    "    ciphertext, authTag = aesCipher.encrypt_and_digest(msg)\n",
    "    return (salt, ciphertext, aesCipher.nonce, authTag)\n",
    "\n",
    "def decrypt_AES_GCM(encryptedMsg, secretKey):\n",
    "    \"\"\"\n",
    "    * encryptedMsg:        quadruple (salt, ciphertext, nonce, authTag)\n",
    "    * plaintext:           plaintext as byte object\n",
    "    \"\"\"\n",
    "    (salt, ciphertext, nonce, authTag) = encryptedMsg\n",
    "    aesCipher = AES.new(secretKey, AES.MODE_GCM, nonce)\n",
    "    plaintext = aesCipher.decrypt_and_verify(ciphertext, authTag)\n",
    "    return plaintext"
   ]
  },
  {
   "cell_type": "code",
   "execution_count": 197,
   "metadata": {},
   "outputs": [],
   "source": [
    "def encrypt_CSV(file_name, KEK):\n",
    "    file = open(file_name, \"r\")\n",
    "    reader_, reader = itertools.tee(csv.reader(file, delimiter=','))\n",
    "    columns = len(next(reader_))\n",
    "    del reader_\n",
    "    \n",
    "    DEKs = [] # one per column\n",
    "    for _ in range(columns):\n",
    "        DEKs += [generate_key(KEK)]\n",
    "    \n",
    "    encrypted_data = []\n",
    "    for line in reader:\n",
    "        encrypted_row = []\n",
    "        for j in range(len(line)):\n",
    "            if line[j]:\n",
    "                encrypted_row.append(encrypt_AES_GCM(line[j], DEKs[j][0], DEKs[j][1]))\n",
    "            else:\n",
    "                encrypted_row += [[]]\n",
    "        encrypted_data.append(encrypted_row)\n",
    "                \n",
    "    # @TODO: print to new CSV\n",
    "    print(encrypted_data)\n",
    "    file.close()    "
   ]
  },
  {
   "cell_type": "markdown",
   "metadata": {},
   "source": [
    "* * *"
   ]
  },
  {
   "cell_type": "markdown",
   "metadata": {},
   "source": [
    "# Test area"
   ]
  },
  {
   "cell_type": "code",
   "execution_count": 199,
   "metadata": {},
   "outputs": [
    {
     "name": "stdout",
     "output_type": "stream",
     "text": [
      "encryptedMsg {'kdfSalt': b'5e18fafbe8231bac294bf91a0acfc309', 'ciphertext': b'8aac055c2f8b6b4cbff0e08025aecb1014dfa87f062f6c7dfbd62d705afff2df1acffa96b668003b10c2ec6dca192fe0cb0b618ac5d9d498db6a4165418f5be7cf3ece1b6ae0fe9530463b1b6cd6e9db164d3319fad54e3ecfd813cc198b632afdfce5354fb8c9da66f1128b9d6452e30a045c5c59557901147dac2d8cc81d57d0acfdddcc8c77ea67f71d4947fea6f4898c821bf460f124af14b1b9861c1d634557cd1752e835e7fb2cd4734bfd39ce2537678bb85a5ca3da2403b4dccf181bc5cbe974e38adc1fa57aa6ce2e8044bcc9a567f1cf9787b002be2107eb3194f280061819d18d30eef1d8ed14e3fbfe9cedc235f4ca5589710d0abb7ba1fda011655e8c71491f42870956aec82015b4fe7e5a107b76531570b8c014421c35c38ee3e72613f5e818d5b08a7c764b2a1cce9581e818d58038502d141819b06152e5665a3ec77f3c69da307d97e8a3477d7c1eba07d91076fa0b168ea5bf8375826944b36ab86fc83bc1c79fcdcd6ad4f20250cc1fcd65ada9e6bf54dbea12d4b4c0d2380d36381102d9c1bb16c7b9bafc481a5341361cfb8fd64abd134ce5f31ca0734c7c6de3b880ce46188d9ad5db1d613cfefc448d57517945ccd4489de873d9302e824402e862097d438ee480e4549ca97c6fe7f6aabcaac7ce066cfe021bb89f1b32bb8082ccc3ecbc58152e1cd1dbb927dda9051adf667860c2db241379f8b90e51c3f3dd2ebefdc286ac1aa9892c35d0328dc5a42cfc172edb523255ec07fa9ef6118aa1a8daf16fc618344402a3ade3c4da821218bc1805908c2ea7599130d8453aae62870396f6170ccdaca7212e11b3970f08503c6f37f460555c16df517de2beee7f9e96b93c78f43965eb94567ed898b7d231ea74882a1f82008999eec113022eb69e624165b068af5522dde1ccfcf42264b4559622d77f3e29eef6f1987d9f1abb3a96c2bac1b4a3d1d24c3e11177c4f43afe126cfbdeeda9f91b88029ae9e76f1b0ae227e10fd8b7f89e801da1b2386fbfa78c0c836a2d8723ae0e31e4f663385a1d13d45afc43955c8b1f75bfde13b137ac248d10c8c698dd8ec385912bf12e686998145e813a4ded22081eb5f00b73c236e648e73c0e5e480ec2d58c49e0b5ca4c4565c53352ac532f97930e875891fc6cb6ddd1cb7f7de30226d5211d0ff35f6e87b976b4bbd87b9e9f8a1fe087f26a116290987ebe4b786eeb44087bee238c700922d55c61e8887a4940b15ceff1840e630041aa4398bd37e3eab97c47344a600b71dd578ff42b1b9ff7fbbfa29d13d87be2f03d313e1b7e62a24693eecff81a38e9f4bef0797c38eeb11ba42a643932e66eff40e045a3f41ee3606208ed343cba7556e9c25860521665fbcb3316b40af7ee25afc256c1a41189ab806', 'aesIV': b'796e5c33b94cf0321a9733e66ec01542', 'authTag': b'f41f3838951771e79a9377373a8ce7c3'}\n"
     ]
    }
   ],
   "source": [
    "msg = \"The Hitchhiker's Guide to the Galaxy has a few things to say on the subject of towels. A towel, it says, is about the most massively useful thing an interstellar hitch hiker can have. Partly it has great practical value—you can wrap it around you for warmth as you bound across the cold moons of Jaglan Beta; you can lie on it on the brilliant marble‐sanded beaches of Santraginus V, inhaling the heady sea vapours; you can sleep under it beneath the stars which shine so redly on the desert world of Kakrafoon; use it to sail a mini raft down the slow heavy river Moth; wet it for use in hand‐to‐hand‐combat; wrap it round your head to ward off noxious fumes or to avoid the gaze of the Ravenous Bugblatter Beast of Traal (a mindbogglingly stupid animal, it assumes that if you can't see it, it can't see you—daft as a brush, but very ravenous); you can wave your towel in emergencies as a distress signal, and of course dry yourself off with it if it still seems to be clean enough.\"\n",
    "#msg = ['All`s Well That Ends Well', 'As You Like It', 'Comedy of Errors', 'Love`s Labour`s Lost', 'Measure for Measure', 'Merchant of Venice', 'Merry Wives of Windsor', 'Midsummer Night`s Dream', 'Much Ado about Nothing', 'Taming of the Shrew', 'Tempest', 'Twelfth Night', 'Two Gentlemen of Verona', 'Winter`s Tale']\n",
    "password = \"myP@ssw0rd!\"\n",
    "\n",
    "DEK, salt = generate_key(password)\n",
    "encryptedMsg = encrypt_AES_GCM(msg, DEK, salt)\n",
    "print(\"encryptedMsg\", {\n",
    "    'kdfSalt': binascii.hexlify(encryptedMsg[0]),\n",
    "    'ciphertext': binascii.hexlify(encryptedMsg[1]),\n",
    "    'aesIV': binascii.hexlify(encryptedMsg[2]),\n",
    "    'authTag': binascii.hexlify(encryptedMsg[3])\n",
    "})"
   ]
  },
  {
   "cell_type": "code",
   "execution_count": 104,
   "metadata": {},
   "outputs": [
    {
     "name": "stdout",
     "output_type": "stream",
     "text": [
      "Decrypted message: The Hitchhiker's Guide to the Galaxy has a few things to say on the subject of towels. A towel, it says, is about the most massively useful thing an interstellar hitch hiker can have. Partly it has great practical value—you can wrap it around you for warmth as you bound across the cold moons of Jaglan Beta; you can lie on it on the brilliant marble‐sanded beaches of Santraginus V, inhaling the heady sea vapours; you can sleep under it beneath the stars which shine so redly on the desert world of Kakrafoon; use it to sail a mini raft down the slow heavy river Moth; wet it for use in hand‐to‐hand‐combat; wrap it round your head to ward off noxious fumes or to avoid the gaze of the Ravenous Bugblatter Beast of Traal (a mindbogglingly stupid animal, it assumes that if you can't see it, it can't see you—daft as a brush, but very ravenous); you can wave your towel in emergencies as a distress signal, and of course dry yourself off with it if it still seems to be clean enough.\n"
     ]
    }
   ],
   "source": [
    "decryptedMsg = decrypt_AES_GCM(encryptedMsg, DEK)\n",
    "print(\"Decrypted message:\", decryptedMsg.decode())"
   ]
  },
  {
   "cell_type": "markdown",
   "metadata": {},
   "source": [
    "***"
   ]
  },
  {
   "cell_type": "code",
   "execution_count": 200,
   "metadata": {},
   "outputs": [],
   "source": [
    "def encrypt_file(file_name, secretKey, salt):\n",
    "    with open(file_name, 'rb') as file:\n",
    "        plaintext = file.read()\n",
    "    (salt, ciphertext, nonce, authTag) = encrypt_AES_GCM(plaintext, secretKey, salt)\n",
    "    # with open(file_name + \".enc\", 'wb') as f:\n",
    "    #     f.write(salt + b'\\n')\n",
    "    #     f.write(ciphertext + b'\\n')\n",
    "    #     f.write(nonce + b'\\n')\n",
    "    #     f.write(authTag + b'\\n')  \n",
    "    # this can be done more efficiently\n",
    "    with open(file_name + \".salt.txt\", 'wb') as f:\n",
    "        f.write(salt)\n",
    "    with open(file_name + \".enc\", 'wb') as f:\n",
    "        f.write(ciphertext)\n",
    "    with open(file_name + \".nonce.txt\", 'wb') as f:\n",
    "        f.write(nonce)\n",
    "    with open(file_name + \".authTag.txt\", 'wb') as f:\n",
    "        f.write(authTag)  \n",
    "            \n",
    "def decrypt_file(file_name, secretKey):\n",
    "    with open(file_name[:-4] + \".salt.txt\", 'rb') as f:\n",
    "        salt = f.read()\n",
    "    with open(file_name) as f:\n",
    "        ciphertext = f.read()\n",
    "    with open(file_name[:-4] + \".nonce.txt\", 'rb') as f:\n",
    "        nonce = f.read()\n",
    "    with open(file_name[:-4] + \".authTag.txt\", 'rb') as f:\n",
    "        authTag = f.read()\n",
    "    (salt, ciphertext, nonce, authTag) = encryptedMsg\n",
    "    plaintext = decrypt_AES_GCM(encryptedMsg, secretKey)\n",
    "    with open(file_name[:-4], 'wb') as f:\n",
    "        f.write(plaintext)"
   ]
  },
  {
   "cell_type": "code",
   "execution_count": 201,
   "metadata": {},
   "outputs": [],
   "source": [
    "password = \"myP@ssw0rd!\"\n",
    "DEK, salt = generate_key(password)\n",
    "encrypt_file('/Users/dzackon/Desktop/testfile.txt', DEK, salt)"
   ]
  },
  {
   "cell_type": "code",
   "execution_count": null,
   "metadata": {},
   "outputs": [],
   "source": [
    "decrypt_AES_GCM('/Users/dzackon/Desktop/testfile.txt.enc', DEK)"
   ]
  }
 ],
 "metadata": {
  "kernelspec": {
   "display_name": "Python 3",
   "language": "python",
   "name": "python3"
  },
  "language_info": {
   "codemirror_mode": {
    "name": "ipython",
    "version": 3
   },
   "file_extension": ".py",
   "mimetype": "text/x-python",
   "name": "python",
   "nbconvert_exporter": "python",
   "pygments_lexer": "ipython3",
   "version": "3.7.7"
  }
 },
 "nbformat": 4,
 "nbformat_minor": 4
}
