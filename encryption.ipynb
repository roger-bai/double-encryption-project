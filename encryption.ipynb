{
 "cells": [
  {
   "cell_type": "code",
   "execution_count": 1,
   "metadata": {},
   "outputs": [],
   "source": [
    "from Crypto.Cipher import AES\n",
    "import scrypt, os, binascii\n",
    "import csv\n",
    "import itertools"
   ]
  },
  {
   "cell_type": "code",
   "execution_count": 2,
   "metadata": {},
   "outputs": [],
   "source": [
    "def generate_key(passwd, N=16384, r=8, p=1, sklen=32, saltlen=16):\n",
    "    \"\"\"\n",
    "    * passwd:              str or str encoded as bype object\n",
    "    * saltlen:             8 bytes minimum, 16 bytes recommended\n",
    "    * salt:                saltlen-byte (non-secret) random data for scrypt key derivation function\n",
    "    * secretKey:           bytes object of length sklen\n",
    "        * N:               iterations count (a power of 2 greater than 1) (e.g. 16384, 2048)\n",
    "        * r:               block size \n",
    "        * p:               parallelism factor (where r*p < 2^30)\n",
    "        * sklen:           no. of bytes to generate as output (<= (2**32 - 1)*32)\n",
    "    * Memory required = 128 * N * r * p bytes\n",
    "    \"\"\"\n",
    "    if type(passwd) == str:\n",
    "        passwd = passwd.encode()\n",
    "    salt = os.urandom(saltlen)\n",
    "    secretKey = scrypt.hash(passwd, salt, N, r, p, sklen)\n",
    "    return secretKey, salt\n",
    "    \n",
    "def encrypt_AES_GCM(msg, secretKey, salt):\n",
    "    '''\n",
    "    * msg:                 str or str encoded as bype object\n",
    "    * aesCipher:           AES-256 cipher in Galois/Counter Mode\n",
    "    * aesCipher.nonce:     nonce bype object\n",
    "    * ciphertext, authTag: ciphertext and MAC tag\n",
    "    '''\n",
    "    if type(msg) == str:\n",
    "        msg = msg.encode()\n",
    "    aesCipher = AES.new(secretKey, AES.MODE_GCM)\n",
    "    ciphertext, authTag = aesCipher.encrypt_and_digest(msg)\n",
    "    return (salt, ciphertext, aesCipher.nonce, authTag)\n",
    "\n",
    "def decrypt_AES_GCM(encryptedMsg, secretKey):\n",
    "    \"\"\"\n",
    "    * encryptedMsg:        quadruple (salt, ciphertext, nonce, authTag)\n",
    "    * plaintext:           plaintext as byte object\n",
    "    \"\"\"\n",
    "    (salt, ciphertext, nonce, authTag) = encryptedMsg\n",
    "    aesCipher = AES.new(secretKey, AES.MODE_GCM, nonce)\n",
    "    plaintext = aesCipher.decrypt_and_verify(ciphertext, authTag)\n",
    "    return plaintext"
   ]
  },
  {
   "cell_type": "code",
   "execution_count": 259,
   "metadata": {},
   "outputs": [],
   "source": [
    "def encrypt_CSV(file_name, KEK, N=16384, r=8, p=1, sklen=32, saltlen=16, return_DEKs = False):\n",
    "    # @TODO: more efficient: store each DEK info once, not with each entry\n",
    "    file = open(file_name, 'r')\n",
    "    reader_, reader = itertools.tee(csv.reader(file, delimiter=','))\n",
    "    columns = len(next(reader_))\n",
    "    del reader_\n",
    "    \n",
    "    DEKs = [] # one per column\n",
    "    for _ in range(columns):\n",
    "        DEKs += [generate_key(KEK, N, r, p, sklen)]\n",
    "    \"\"\"\n",
    "    with open(file_name[:-4] + '_keyinfo.csv', 'w') as key_file:\n",
    "        fieldnames = ['salt', 'ciphertext', 'aesCipher.nonce', 'authTag']\n",
    "        writer = csv.DictWriter(key_file, fieldnames = fieldnames) etc. etc.\n",
    "    \"\"\"\n",
    "\n",
    "    header = next(reader) \n",
    "    encrypted_data = []\n",
    "    for line in reader:\n",
    "        if line:\n",
    "            encrypted_row = {}\n",
    "            for j in range(len(line)):\n",
    "                encrypted_row[header[j]] = encrypt_AES_GCM(line[j], DEKs[j][0], DEKs[j][1])\n",
    "            encrypted_data.append(encrypted_row)\n",
    "            \n",
    "    with open(file_name[:-4] + '_enc.csv', 'w') as enc_file:\n",
    "        writer = csv.DictWriter(enc_file, fieldnames = header)\n",
    "        writer.writeheader()\n",
    "        for row in encrypted_data:\n",
    "            writer.writerow(row)\n",
    "    file.close()\n",
    "    if return_DEKs:\n",
    "        return DEKs # for debugging purposes\n",
    "    \n",
    "def decrypt_CSV(enc_file_name, KEK, N=16384, r=8, p=1, sklen=32, saltlen=16):\n",
    "    file = open(enc_file_name, 'r')\n",
    "    reader = csv.reader(file)\n",
    "    \n",
    "    header = next(reader) \n",
    "    decrypted_data = []\n",
    "    for line in reader:\n",
    "        encrypted_row = []\n",
    "        for entry in line:\n",
    "            entry = entry[3:-2].split(\"', b'\")\n",
    "            encryptedMsg = [w.encode() for w in entry]\n",
    "            secretKey = scrypt.hash(KEK, encryptedMsg[0], N, r, p, sklen)\n",
    "            \n",
    "            print(secretKey)\n",
    "            print(encryptedMsg[0]) \n",
    "            print(encryptedMsg[0] == DEKs[0][1]) # False becaust of the extra \\'s?\n",
    "            return\n",
    "            # decryptedMsg = decrypt_AES_GCM(encryptedMsg, secretKey)\n",
    "\n",
    "    # @TODO: print to file\n",
    "    file.close()"
   ]
  },
  {
   "cell_type": "markdown",
   "metadata": {},
   "source": [
    "* * *"
   ]
  },
  {
   "cell_type": "markdown",
   "metadata": {},
   "source": [
    "# Sandbox"
   ]
  },
  {
   "cell_type": "markdown",
   "metadata": {},
   "source": [
    "Encrypt and decrypt CSV: (Not working; seems to be retrieving the incorrect DEK)."
   ]
  },
  {
   "cell_type": "code",
   "execution_count": 260,
   "metadata": {
    "scrolled": true
   },
   "outputs": [],
   "source": [
    "KEK, KEK_salt = generate_key(\"myP@ssw0rd!\")\n",
    "DEKs = encrypt_CSV('biostats.csv', KEK, return_DEKs = True)"
   ]
  },
  {
   "cell_type": "code",
   "execution_count": 261,
   "metadata": {},
   "outputs": [
    {
     "name": "stdout",
     "output_type": "stream",
     "text": [
      "b'\\xdap\\xd1\\xf6\\xa7\\x83x\\xcd\\x83\\xe4\\x8ev\\xf3\\x94\\x88.Y/\\x92\\xde\\x18\\x01\\xd9`1z\\xb3A\\x89k\\nO'\n",
      "b'\\x18\\x8a\\xa1\\xd4\\xa7\\x0f\\xf4\\x9d\\xce\\xfc\\x1a44\\xd1u\\xb5'\n"
     ]
    }
   ],
   "source": [
    "print(DEKs[0][0])\n",
    "print(DEKs[0][1])"
   ]
  },
  {
   "cell_type": "code",
   "execution_count": 262,
   "metadata": {},
   "outputs": [
    {
     "data": {
      "text/plain": [
       "b'\\xdap\\xd1\\xf6\\xa7\\x83x\\xcd\\x83\\xe4\\x8ev\\xf3\\x94\\x88.Y/\\x92\\xde\\x18\\x01\\xd9`1z\\xb3A\\x89k\\nOg\\x88\\xf8&\\xb4e\\x00\\xe1\\x81\\xcc\\x1eUy\\x06\\x9a\\xdfB_\\xccMeV\\xca\\xc5\\x02B\\xd4\\x88\\xdc\\xdc\\x8a\\xcf'"
      ]
     },
     "execution_count": 262,
     "metadata": {},
     "output_type": "execute_result"
    }
   ],
   "source": [
    "scrypt.hash(KEK, DEKs[0][1])"
   ]
  },
  {
   "cell_type": "code",
   "execution_count": 263,
   "metadata": {},
   "outputs": [
    {
     "name": "stdout",
     "output_type": "stream",
     "text": [
      "b'\\xee\\x9eA\\x9a\\xd7\\x8e>\\x0b\\xaf\\xf9\\xaa)b\\x8eev\\x06\\xcb\\xd3\\xb60\\x99\\x81\\xb8\\xc1(\\xbe\\x94\\xa9\\x02\\x9c)'\n",
      "b'\\\\x18\\\\x8a\\\\xa1\\\\xd4\\\\xa7\\\\x0f\\\\xf4\\\\x9d\\\\xce\\\\xfc\\\\x1a44\\\\xd1u\\\\xb5'\n",
      "False\n"
     ]
    }
   ],
   "source": [
    "decrypt_CSV('biostats_enc.csv', KEK)"
   ]
  },
  {
   "cell_type": "markdown",
   "metadata": {},
   "source": [
    "* * *"
   ]
  },
  {
   "cell_type": "markdown",
   "metadata": {},
   "source": [
    "Encrypt and decrypt simple message:"
   ]
  },
  {
   "cell_type": "code",
   "execution_count": 4,
   "metadata": {
    "collapsed": true
   },
   "outputs": [
    {
     "name": "stdout",
     "output_type": "stream",
     "text": [
      "encryptedMsg {'kdfSalt': b'890518ef840f2629f88b1f59b16558d3', 'ciphertext': b'5ed016c8f6e3ef0cd7b48708c17b6b7486c01d2efdba00f6e41b1a871e5799e570315d7771ddbe4636464963336c8c05ab2cb1f7719004d7cb7ce94d9d3cbc2258fad96976afabbd490a9e98e6793a3f3d10acc5ac820b7f7081cbb61861078981164b7c4161ef0e87d5b437cbe89323b826ef8388699ca0989f0b1362a8f90f45f4c5a389f5ac5d3a92abba9e6f431377eeeff24c9278ae8e1ad817dd838bd69ffb48699894b663addd1fbb030e9383f9e3a126760be9a0ff0addb4e048ca38e5d570a2ceb0811c9fee16084e7dc72cac698d77a951113e85c65e16a17a0844ebc5879f13506516390d47a933c2a7aba093cb3cf429863fbb06389eeb105b7f7cbf050478f66755c20571ff43f7058d59469943dcee422aeb45682222b46cc064a43590f0b3d1881ce82639db0981e49c480c6db9db5a4e27a493b39d4a63d7a935aab67c3848b1357f077182763eee08c956e2e61e3cd0b8a59c9396f7ff897f813ed0810a47af4157fca853c521e6fc656c3452acf5ed1fddf04b1c98e6f7dae24b9ddf8e81206c864521eb0461de5bd3d8dc9943f5d7a455d438dad2206c82b95fb9742e8a3ca85d3636762f4ee9bd3c62beb126414eab781c35000033a58c73009c2d5d978ef728dc17f112965222abe954d64dfcf774340cc096381d92080dd59fe1aeebec2a02ca900fd986e8f0cbc4508c90134e37f6db9dc7412c6811d89caf9eef77f12db4f7fd0747b49e4dd5c7e2c1b88e388bdf4990b3dbe788e6fff154664367cbc65be973acf35f696f7869445c464923482652d1163af6001decb925aa136aa60d5e4c1cfd0640c4674aae86ee25bc27e65d1be230c6e30d55fadbbf3459f050bc0eff61a5619c0a3345aeb6a1a9ac709bf4c7133c71ebd7b14ec2ee9450be82525c65930f71580a8849dc97c8f605c693a123388a3b3e5a6529c6818493c7717e932366d64564be6f65405e68168db46ef2b8ecae2866e4b8a3e51a53d0ffef596e787674dd940086cd31590f3db14d0165ec75e0f8f55b4e55e882ccb87de5013a4fa387503ea8a0c2a590dc079b3e4c5fa2ce318d5e5e92b0fee5b636559eaf25d0243246f01d80de77875e7bcbd6fd2fc5ab006233fae398bc15159ed13f0cab0525228acd62c3e44ca0137d6dc23f9450217a1b0c2f2765d52175494910889c9f01a5da5e5c2e885e3f6f7cc49eee6881c40bfd62a13fc310af598a24af05b714c82d899b5adac4fb053a631d0491597606fd3b7882774cdd5eb079f72377f7e55cd9e24ff4a97aadc343eafde79a4e33a24486886708c91877c9bd12902df060aee744b08f335a8463d3cd0f776f73deab6eafd590d9b70978db723b25de5a219472af2e23ef21d237fcab7b79d14f173b19f2b7aec27a828f', 'aesIV': b'5c300372080c645f54a4bdcb7b7ea3a4', 'authTag': b'a1b77a88b83f93b8999d2ffb683922d0'}\n"
     ]
    }
   ],
   "source": [
    "msg = \"The Hitchhiker's Guide to the Galaxy has a few things to say on the subject of towels. A towel, it says, is about the most massively useful thing an interstellar hitch hiker can have. Partly it has great practical value—you can wrap it around you for warmth as you bound across the cold moons of Jaglan Beta; you can lie on it on the brilliant marble‐sanded beaches of Santraginus V, inhaling the heady sea vapours; you can sleep under it beneath the stars which shine so redly on the desert world of Kakrafoon; use it to sail a mini raft down the slow heavy river Moth; wet it for use in hand‐to‐hand‐combat; wrap it round your head to ward off noxious fumes or to avoid the gaze of the Ravenous Bugblatter Beast of Traal (a mindbogglingly stupid animal, it assumes that if you can't see it, it can't see you—daft as a brush, but very ravenous); you can wave your towel in emergencies as a distress signal, and of course dry yourself off with it if it still seems to be clean enough.\"\n",
    "#msg = ['All`s Well That Ends Well', 'As You Like It', 'Comedy of Errors', 'Love`s Labour`s Lost', 'Measure for Measure', 'Merchant of Venice', 'Merry Wives of Windsor', 'Midsummer Night`s Dream', 'Much Ado about Nothing', 'Taming of the Shrew', 'Tempest', 'Twelfth Night', 'Two Gentlemen of Verona', 'Winter`s Tale']\n",
    "password = \"myP@ssw0rd!\"\n",
    "\n",
    "DEK, salt = generate_key(password)\n",
    "encryptedMsg = encrypt_AES_GCM(msg, DEK, salt)\n",
    "print(\"encryptedMsg\", {\n",
    "    'kdfSalt': binascii.hexlify(encryptedMsg[0]),\n",
    "    'ciphertext': binascii.hexlify(encryptedMsg[1]),\n",
    "    'aesIV': binascii.hexlify(encryptedMsg[2]),\n",
    "    'authTag': binascii.hexlify(encryptedMsg[3])\n",
    "})"
   ]
  },
  {
   "cell_type": "code",
   "execution_count": 5,
   "metadata": {
    "collapsed": true
   },
   "outputs": [
    {
     "name": "stdout",
     "output_type": "stream",
     "text": [
      "Decrypted message: The Hitchhiker's Guide to the Galaxy has a few things to say on the subject of towels. A towel, it says, is about the most massively useful thing an interstellar hitch hiker can have. Partly it has great practical value—you can wrap it around you for warmth as you bound across the cold moons of Jaglan Beta; you can lie on it on the brilliant marble‐sanded beaches of Santraginus V, inhaling the heady sea vapours; you can sleep under it beneath the stars which shine so redly on the desert world of Kakrafoon; use it to sail a mini raft down the slow heavy river Moth; wet it for use in hand‐to‐hand‐combat; wrap it round your head to ward off noxious fumes or to avoid the gaze of the Ravenous Bugblatter Beast of Traal (a mindbogglingly stupid animal, it assumes that if you can't see it, it can't see you—daft as a brush, but very ravenous); you can wave your towel in emergencies as a distress signal, and of course dry yourself off with it if it still seems to be clean enough.\n"
     ]
    }
   ],
   "source": [
    "decryptedMsg = decrypt_AES_GCM(encryptedMsg, DEK)\n",
    "print(\"Decrypted message:\", decryptedMsg.decode())"
   ]
  },
  {
   "cell_type": "markdown",
   "metadata": {},
   "source": [
    "***"
   ]
  },
  {
   "cell_type": "markdown",
   "metadata": {},
   "source": [
    "Encrypt and decrypt text file (incomplete):"
   ]
  },
  {
   "cell_type": "code",
   "execution_count": 200,
   "metadata": {},
   "outputs": [],
   "source": [
    "def encrypt_file(file_name, secretKey, salt):\n",
    "    with open(file_name, 'rb') as file:\n",
    "        plaintext = file.read()\n",
    "    (salt, ciphertext, nonce, authTag) = encrypt_AES_GCM(plaintext, secretKey, salt)\n",
    "    # with open(file_name + \".enc\", 'wb') as f:\n",
    "    #     f.write(salt + b'\\n')\n",
    "    #     f.write(ciphertext + b'\\n')\n",
    "    #     f.write(nonce + b'\\n')\n",
    "    #     f.write(authTag + b'\\n')  \n",
    "    # this can be done more efficiently\n",
    "    with open(file_name + \".salt.txt\", 'wb') as f:\n",
    "        f.write(salt)\n",
    "    with open(file_name + \".enc\", 'wb') as f:\n",
    "        f.write(ciphertext)\n",
    "    with open(file_name + \".nonce.txt\", 'wb') as f:\n",
    "        f.write(nonce)\n",
    "    with open(file_name + \".authTag.txt\", 'wb') as f:\n",
    "        f.write(authTag)  \n",
    "            \n",
    "def decrypt_file(file_name, secretKey):\n",
    "    with open(file_name[:-4] + \".salt.txt\", 'rb') as f:\n",
    "        salt = f.read()\n",
    "    with open(file_name) as f:\n",
    "        ciphertext = f.read()\n",
    "    with open(file_name[:-4] + \".nonce.txt\", 'rb') as f:\n",
    "        nonce = f.read()\n",
    "    with open(file_name[:-4] + \".authTag.txt\", 'rb') as f:\n",
    "        authTag = f.read()\n",
    "    (salt, ciphertext, nonce, authTag) = encryptedMsg\n",
    "    plaintext = decrypt_AES_GCM(encryptedMsg, secretKey)\n",
    "    with open(file_name[:-4], 'wb') as f:\n",
    "        f.write(plaintext)"
   ]
  },
  {
   "cell_type": "code",
   "execution_count": 201,
   "metadata": {},
   "outputs": [],
   "source": [
    "password = \"myP@ssw0rd!\"\n",
    "DEK, salt = generate_key(password)\n",
    "encrypt_file('/Users/dzackon/Desktop/testfile.txt', DEK, salt)"
   ]
  },
  {
   "cell_type": "code",
   "execution_count": null,
   "metadata": {},
   "outputs": [],
   "source": [
    "decrypt_AES_GCM('/Users/dzackon/Desktop/testfile.txt.enc', DEK)"
   ]
  }
 ],
 "metadata": {
  "kernelspec": {
   "display_name": "Python 3",
   "language": "python",
   "name": "python3"
  },
  "language_info": {
   "codemirror_mode": {
    "name": "ipython",
    "version": 3
   },
   "file_extension": ".py",
   "mimetype": "text/x-python",
   "name": "python",
   "nbconvert_exporter": "python",
   "pygments_lexer": "ipython3",
   "version": "3.7.7"
  }
 },
 "nbformat": 4,
 "nbformat_minor": 4
}
